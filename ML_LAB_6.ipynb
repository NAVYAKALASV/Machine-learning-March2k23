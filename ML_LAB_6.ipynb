{
  "nbformat": 4,
  "nbformat_minor": 0,
  "metadata": {
    "colab": {
      "provenance": []
    },
    "kernelspec": {
      "name": "python3",
      "display_name": "Python 3"
    },
    "language_info": {
      "name": "python"
    }
  },
  "cells": [
    {
      "cell_type": "markdown",
      "source": [
        "**20BCE1858    S.V.NAVYA KALA     ML CSE4020 LAB-6**"
      ],
      "metadata": {
        "id": "8oaO4-kV-kI9"
      }
    },
    {
      "cell_type": "code",
      "execution_count": null,
      "metadata": {
        "id": "1t9sHkioWazp"
      },
      "outputs": [],
      "source": [
        "import tensorflow as tf\n",
        "import numpy as np\n",
        "import keras\n",
        "from keras.models import Sequential\n",
        "from keras.layers import Dense, Activation\n",
        "from keras.utils import to_categorical"
      ]
    },
    {
      "cell_type": "code",
      "source": [
        "# Getting the data ready\n",
        "import os\n",
        "from pathlib import Path\n",
        "import pandas as pd\n",
        "m1 = pd.read_csv(\"train.csv\")\n",
        "m2 = pd.read_csv(\"test.csv\")\n",
        "import warnings\n",
        "warnings.filterwarnings('ignore')\n"
      ],
      "metadata": {
        "id": "A6oTvu6HWoVv"
      },
      "execution_count": null,
      "outputs": []
    },
    {
      "cell_type": "code",
      "source": [
        "X_train = m1.sample(frac = 0.5)\n",
        "X_val = m1.sample(frac = 0.3)\n",
        "X_test = m1.sample(frac = 0.2)"
      ],
      "metadata": {
        "id": "sZBi-pMnb1Bw"
      },
      "execution_count": null,
      "outputs": []
    },
    {
      "cell_type": "code",
      "source": [
        "target=m1[\"Label\"]\n",
        "target1=X_train[\"Label\"]\n",
        "target2=X_val[\"Label\"]\n",
        "target3=X_test[\"Label\"]"
      ],
      "metadata": {
        "id": "zDKhmB5PdUm5"
      },
      "execution_count": null,
      "outputs": []
    },
    {
      "cell_type": "code",
      "source": [
        "y_train=target1\n",
        "y_val=target2\n",
        "y_test=target3\n",
        "a = Sequential()\n",
        "a.add(Dense(64, input_dim=80,activation = \"relu\")) #Layer 1\n",
        "a.add(Dense(32,activation = \"relu\"))               #Layer 2\n",
        "a.add(Dense(16,activation = \"relu\"))               #Layer 3\n",
        "a.add(Dense(8,activation = \"relu\"))                #Layer 4\n",
        "a.add(Dense(4,activation = \"relu\"))                #Layer 5\n",
        "a.add(Dense(1,activation = \"sigmoid\"))             #Output Layer\n",
        "\n",
        "#Configure the model\n",
        "a.compile(optimizer='Adam',loss='binary_crossentropy',metrics=['accuracy'])\n",
        "\n",
        "#Train the model\n",
        "a.fit(X_train, y_train, batch_size=64, epochs=100, validation_data=(X_val,y_val))"
      ],
      "metadata": {
        "colab": {
          "base_uri": "https://localhost:8080/"
        },
        "id": "A--BTmK8dZJ4",
        "outputId": "a798afea-75d4-4ec8-8cf1-f9cb36c3de0f"
      },
      "execution_count": null,
      "outputs": [
        {
          "output_type": "stream",
          "name": "stdout",
          "text": [
            "Epoch 1/100\n",
            "177/177 [==============================] - 3s 9ms/step - loss: -543971840.0000 - accuracy: 0.0128 - val_loss: -4045202176.0000 - val_accuracy: 0.0680\n",
            "Epoch 2/100\n",
            "177/177 [==============================] - 1s 6ms/step - loss: -85584756736.0000 - accuracy: 0.0888 - val_loss: -301708083200.0000 - val_accuracy: 0.0848\n",
            "Epoch 3/100\n",
            "177/177 [==============================] - 1s 5ms/step - loss: -1375231279104.0000 - accuracy: 0.0885 - val_loss: -3401326526464.0000 - val_accuracy: 0.0877\n",
            "Epoch 4/100\n",
            "177/177 [==============================] - 1s 4ms/step - loss: -9481418178560.0000 - accuracy: 0.0852 - val_loss: -19092295647232.0000 - val_accuracy: 0.0901\n",
            "Epoch 5/100\n",
            "177/177 [==============================] - 1s 5ms/step - loss: -39918814363648.0000 - accuracy: 0.0915 - val_loss: -70570968350720.0000 - val_accuracy: 0.0892\n",
            "Epoch 6/100\n",
            "177/177 [==============================] - 1s 4ms/step - loss: -123982787379200.0000 - accuracy: 0.0917 - val_loss: -196200095547392.0000 - val_accuracy: 0.0895\n",
            "Epoch 7/100\n",
            "177/177 [==============================] - 1s 4ms/step - loss: -313385275097088.0000 - accuracy: 0.0881 - val_loss: -464030045044736.0000 - val_accuracy: 0.0883\n",
            "Epoch 8/100\n",
            "177/177 [==============================] - 1s 4ms/step - loss: -682071274029056.0000 - accuracy: 0.0653 - val_loss: -960996717887488.0000 - val_accuracy: 0.0025\n",
            "Epoch 9/100\n",
            "177/177 [==============================] - 1s 4ms/step - loss: -1330129762516992.0000 - accuracy: 0.0027 - val_loss: -1785956386471936.0000 - val_accuracy: 0.0034\n",
            "Epoch 10/100\n",
            "177/177 [==============================] - 1s 4ms/step - loss: -2402686578196480.0000 - accuracy: 0.0040 - val_loss: -3142834265784320.0000 - val_accuracy: 0.0049\n",
            "Epoch 11/100\n",
            "177/177 [==============================] - 1s 5ms/step - loss: -4057571031777280.0000 - accuracy: 0.0043 - val_loss: -5116520451538944.0000 - val_accuracy: 0.0054\n",
            "Epoch 12/100\n",
            "177/177 [==============================] - 1s 5ms/step - loss: -6471636857389056.0000 - accuracy: 0.0100 - val_loss: -8025855062179840.0000 - val_accuracy: 0.0054\n",
            "Epoch 13/100\n",
            "177/177 [==============================] - 1s 5ms/step - loss: -9882130263834624.0000 - accuracy: 0.0473 - val_loss: -12076310943760384.0000 - val_accuracy: 0.0049\n",
            "Epoch 14/100\n",
            "177/177 [==============================] - 1s 5ms/step - loss: -14587564363087872.0000 - accuracy: 0.0057 - val_loss: -17521938633064448.0000 - val_accuracy: 0.0047\n",
            "Epoch 15/100\n",
            "177/177 [==============================] - 1s 6ms/step - loss: -20909777697636352.0000 - accuracy: 0.0046 - val_loss: -24862700240633856.0000 - val_accuracy: 0.0047\n",
            "Epoch 16/100\n",
            "177/177 [==============================] - 1s 7ms/step - loss: -29067129626034176.0000 - accuracy: 0.0067 - val_loss: -34084252723183616.0000 - val_accuracy: 0.0879\n",
            "Epoch 17/100\n",
            "177/177 [==============================] - 1s 6ms/step - loss: -39521717827141632.0000 - accuracy: 0.0114 - val_loss: -45985690852261888.0000 - val_accuracy: 0.0028\n",
            "Epoch 18/100\n",
            "177/177 [==============================] - 1s 5ms/step - loss: -52845814480896000.0000 - accuracy: 0.0024 - val_loss: -60847798114844672.0000 - val_accuracy: 0.0031\n",
            "Epoch 19/100\n",
            "177/177 [==============================] - 1s 4ms/step - loss: -69397377194131456.0000 - accuracy: 0.0027 - val_loss: -79242326999826432.0000 - val_accuracy: 0.0034\n",
            "Epoch 20/100\n",
            "177/177 [==============================] - 1s 5ms/step - loss: -89494852022042624.0000 - accuracy: 0.0031 - val_loss: -101646431193923584.0000 - val_accuracy: 0.0037\n",
            "Epoch 21/100\n",
            "177/177 [==============================] - 1s 4ms/step - loss: -113670544326393856.0000 - accuracy: 0.0032 - val_loss: -127829256204976128.0000 - val_accuracy: 0.0040\n",
            "Epoch 22/100\n",
            "177/177 [==============================] - 1s 5ms/step - loss: -142538849178877952.0000 - accuracy: 0.0039 - val_loss: -159282435584950272.0000 - val_accuracy: 0.0043\n",
            "Epoch 23/100\n",
            "177/177 [==============================] - 1s 4ms/step - loss: -176278377089466368.0000 - accuracy: 0.0040 - val_loss: -195986504542060544.0000 - val_accuracy: 0.0038\n",
            "Epoch 24/100\n",
            "177/177 [==============================] - 1s 5ms/step - loss: -215475313784651776.0000 - accuracy: 0.0042 - val_loss: -238595620955226112.0000 - val_accuracy: 0.0046\n",
            "Epoch 25/100\n",
            "177/177 [==============================] - 1s 4ms/step - loss: -261125971418021888.0000 - accuracy: 0.0044 - val_loss: -287347107537354752.0000 - val_accuracy: 0.0041\n",
            "Epoch 26/100\n",
            "177/177 [==============================] - 1s 5ms/step - loss: -313794914850701312.0000 - accuracy: 0.0048 - val_loss: -343817011127648256.0000 - val_accuracy: 0.0052\n",
            "Epoch 27/100\n",
            "177/177 [==============================] - 1s 4ms/step - loss: -373743243734548480.0000 - accuracy: 0.0029 - val_loss: -407826214409994240.0000 - val_accuracy: 1.4719e-04\n",
            "Epoch 28/100\n",
            "177/177 [==============================] - 1s 5ms/step - loss: -441682445171949568.0000 - accuracy: 5.2989e-04 - val_loss: -482138185241985024.0000 - val_accuracy: 1.4719e-04\n",
            "Epoch 29/100\n",
            "177/177 [==============================] - 1s 4ms/step - loss: -518863144920023040.0000 - accuracy: 5.2989e-04 - val_loss: -563399550597857280.0000 - val_accuracy: 1.4719e-04\n",
            "Epoch 30/100\n",
            "177/177 [==============================] - 1s 5ms/step - loss: -605874475052826624.0000 - accuracy: 5.2989e-04 - val_loss: -656171909343346688.0000 - val_accuracy: 1.4719e-04\n",
            "Epoch 31/100\n",
            "177/177 [==============================] - 1s 6ms/step - loss: -704182909203906560.0000 - accuracy: 5.2989e-04 - val_loss: -762260556492046336.0000 - val_accuracy: 1.4719e-04\n",
            "Epoch 32/100\n",
            "177/177 [==============================] - 1s 7ms/step - loss: -814851709477060608.0000 - accuracy: 5.2989e-04 - val_loss: -878633485651148800.0000 - val_accuracy: 1.4719e-04\n",
            "Epoch 33/100\n",
            "177/177 [==============================] - 1s 4ms/step - loss: -937870224353394688.0000 - accuracy: 5.2989e-04 - val_loss: -1010435449165971456.0000 - val_accuracy: 1.4719e-04\n",
            "Epoch 34/100\n",
            "177/177 [==============================] - 1s 5ms/step - loss: -1074851093793472512.0000 - accuracy: 5.2989e-04 - val_loss: -1154336438632841216.0000 - val_accuracy: 1.4719e-04\n",
            "Epoch 35/100\n",
            "177/177 [==============================] - 1s 5ms/step - loss: -1225497518377271296.0000 - accuracy: 5.2989e-04 - val_loss: -1311879549901864960.0000 - val_accuracy: 1.4719e-04\n",
            "Epoch 36/100\n",
            "177/177 [==============================] - 1s 4ms/step - loss: -1391220308962181120.0000 - accuracy: 5.2989e-04 - val_loss: -1486460143599091712.0000 - val_accuracy: 1.4719e-04\n",
            "Epoch 37/100\n",
            "177/177 [==============================] - 1s 4ms/step - loss: -1572527302481281024.0000 - accuracy: 5.2989e-04 - val_loss: -1676874804247920640.0000 - val_accuracy: 1.4719e-04\n",
            "Epoch 38/100\n",
            "177/177 [==============================] - 1s 5ms/step - loss: -1771585498913964032.0000 - accuracy: 5.2989e-04 - val_loss: -1888146513280892928.0000 - val_accuracy: 1.4719e-04\n",
            "Epoch 39/100\n",
            "177/177 [==============================] - 1s 4ms/step - loss: -1990303238129188864.0000 - accuracy: 5.2989e-04 - val_loss: -2116767828605403136.0000 - val_accuracy: 1.4719e-04\n",
            "Epoch 40/100\n",
            "177/177 [==============================] - 1s 4ms/step - loss: -2229064662001909760.0000 - accuracy: 5.2989e-04 - val_loss: -2369648768485163008.0000 - val_accuracy: 1.4719e-04\n",
            "Epoch 41/100\n",
            "177/177 [==============================] - 1s 4ms/step - loss: -2492025512168259584.0000 - accuracy: 5.2989e-04 - val_loss: -2646172644335943680.0000 - val_accuracy: 1.4719e-04\n",
            "Epoch 42/100\n",
            "177/177 [==============================] - 1s 4ms/step - loss: -2779326251238686720.0000 - accuracy: 5.2989e-04 - val_loss: -2949677436020719616.0000 - val_accuracy: 1.4719e-04\n",
            "Epoch 43/100\n",
            "177/177 [==============================] - 1s 5ms/step - loss: -3091745883201470464.0000 - accuracy: 5.2989e-04 - val_loss: -3279003708528001024.0000 - val_accuracy: 1.4719e-04\n",
            "Epoch 44/100\n",
            "177/177 [==============================] - 1s 5ms/step - loss: -3431035655201751040.0000 - accuracy: 5.2989e-04 - val_loss: -3626169557195948032.0000 - val_accuracy: 1.4719e-04\n",
            "Epoch 45/100\n",
            "177/177 [==============================] - 1s 5ms/step - loss: -3797385232995319808.0000 - accuracy: 5.2989e-04 - val_loss: -4014807884951977984.0000 - val_accuracy: 1.4719e-04\n",
            "Epoch 46/100\n",
            "177/177 [==============================] - 1s 6ms/step - loss: -4194378474732912640.0000 - accuracy: 5.2989e-04 - val_loss: -4433841936779968512.0000 - val_accuracy: 1.4719e-04\n",
            "Epoch 47/100\n",
            "177/177 [==============================] - 1s 7ms/step - loss: -4626387038646566912.0000 - accuracy: 5.2989e-04 - val_loss: -4881412713395257344.0000 - val_accuracy: 1.4719e-04\n",
            "Epoch 48/100\n",
            "177/177 [==============================] - 1s 5ms/step - loss: -5093828464276930560.0000 - accuracy: 5.2989e-04 - val_loss: -5369205549499940864.0000 - val_accuracy: 1.4719e-04\n",
            "Epoch 49/100\n",
            "177/177 [==============================] - 1s 4ms/step - loss: -5598338824926134272.0000 - accuracy: 5.2989e-04 - val_loss: -5896329565797613568.0000 - val_accuracy: 1.4719e-04\n",
            "Epoch 50/100\n",
            "177/177 [==============================] - 1s 4ms/step - loss: -6143116050163564544.0000 - accuracy: 5.2989e-04 - val_loss: -6461659961893060608.0000 - val_accuracy: 1.4719e-04\n",
            "Epoch 51/100\n",
            "177/177 [==============================] - 1s 4ms/step - loss: -6727885262082277376.0000 - accuracy: 5.2989e-04 - val_loss: -7071769618297126912.0000 - val_accuracy: 1.4719e-04\n",
            "Epoch 52/100\n",
            "177/177 [==============================] - 1s 4ms/step - loss: -7352330351089287168.0000 - accuracy: 5.2989e-04 - val_loss: -7719337436836265984.0000 - val_accuracy: 1.4719e-04\n",
            "Epoch 53/100\n",
            "177/177 [==============================] - 1s 5ms/step - loss: -8021653656451416064.0000 - accuracy: 5.2989e-04 - val_loss: -8413547638137290752.0000 - val_accuracy: 1.4719e-04\n",
            "Epoch 54/100\n",
            "177/177 [==============================] - 1s 5ms/step - loss: -8734144887831658496.0000 - accuracy: 5.2989e-04 - val_loss: -9146865269015052288.0000 - val_accuracy: 1.4719e-04\n",
            "Epoch 55/100\n",
            "177/177 [==============================] - 1s 4ms/step - loss: -9494547888148054016.0000 - accuracy: 5.2989e-04 - val_loss: -9945331162861797376.0000 - val_accuracy: 1.4719e-04\n",
            "Epoch 56/100\n",
            "177/177 [==============================] - 1s 5ms/step - loss: -10303600429702840320.0000 - accuracy: 5.2989e-04 - val_loss: -10775072115204816896.0000 - val_accuracy: 1.4719e-04\n",
            "Epoch 57/100\n",
            "177/177 [==============================] - 1s 4ms/step - loss: -11157332725763932160.0000 - accuracy: 5.2989e-04 - val_loss: -11670108665074941952.0000 - val_accuracy: 1.4719e-04\n",
            "Epoch 58/100\n",
            "177/177 [==============================] - 1s 5ms/step - loss: -12065565614190624768.0000 - accuracy: 5.2989e-04 - val_loss: -12619601826845556736.0000 - val_accuracy: 1.4719e-04\n",
            "Epoch 59/100\n",
            "177/177 [==============================] - 1s 4ms/step - loss: -13035936302749450240.0000 - accuracy: 5.2989e-04 - val_loss: -13610246410308943872.0000 - val_accuracy: 1.4719e-04\n",
            "Epoch 60/100\n",
            "177/177 [==============================] - 1s 5ms/step - loss: -14062017046464430080.0000 - accuracy: 5.2989e-04 - val_loss: -14673531328972980224.0000 - val_accuracy: 1.4719e-04\n",
            "Epoch 61/100\n",
            "177/177 [==============================] - 1s 6ms/step - loss: -15148061855823429632.0000 - accuracy: 5.2989e-04 - val_loss: -15796921050769391616.0000 - val_accuracy: 1.4719e-04\n",
            "Epoch 62/100\n",
            "177/177 [==============================] - 1s 6ms/step - loss: -16303075731057934336.0000 - accuracy: 5.2989e-04 - val_loss: -16990491500255117312.0000 - val_accuracy: 1.4719e-04\n",
            "Epoch 63/100\n",
            "177/177 [==============================] - 1s 6ms/step - loss: -17524234026796187648.0000 - accuracy: 5.2989e-04 - val_loss: -18243741241873268736.0000 - val_accuracy: 1.4719e-04\n",
            "Epoch 64/100\n",
            "177/177 [==============================] - 1s 4ms/step - loss: -18812078802270683136.0000 - accuracy: 5.2989e-04 - val_loss: -19578405421481721856.0000 - val_accuracy: 1.4719e-04\n",
            "Epoch 65/100\n",
            "177/177 [==============================] - 1s 4ms/step - loss: -20166773884713959424.0000 - accuracy: 5.2989e-04 - val_loss: -20983985902058471424.0000 - val_accuracy: 1.4719e-04\n",
            "Epoch 66/100\n",
            "177/177 [==============================] - 1s 4ms/step - loss: -21599958704217653248.0000 - accuracy: 5.2989e-04 - val_loss: -22458206694534021120.0000 - val_accuracy: 1.4719e-04\n",
            "Epoch 67/100\n",
            "177/177 [==============================] - 1s 5ms/step - loss: -23114553563665137664.0000 - accuracy: 5.2989e-04 - val_loss: -24015288882302025728.0000 - val_accuracy: 1.4719e-04\n",
            "Epoch 68/100\n",
            "177/177 [==============================] - 1s 5ms/step - loss: -24716649757474291712.0000 - accuracy: 5.2989e-04 - val_loss: -25669680048151461888.0000 - val_accuracy: 1.4719e-04\n",
            "Epoch 69/100\n",
            "177/177 [==============================] - 1s 5ms/step - loss: -26407905349179801600.0000 - accuracy: 5.2989e-04 - val_loss: -27418090453292023808.0000 - val_accuracy: 1.4719e-04\n",
            "Epoch 70/100\n",
            "177/177 [==============================] - 1s 4ms/step - loss: -28200610679756947456.0000 - accuracy: 5.2989e-04 - val_loss: -29280975412046856192.0000 - val_accuracy: 1.4719e-04\n",
            "Epoch 71/100\n",
            "177/177 [==============================] - 1s 4ms/step - loss: -30099458464833077248.0000 - accuracy: 5.2989e-04 - val_loss: -31244582232975736832.0000 - val_accuracy: 1.4719e-04\n",
            "Epoch 72/100\n",
            "177/177 [==============================] - 1s 5ms/step - loss: -32099232621246021632.0000 - accuracy: 5.2989e-04 - val_loss: -33314019247101313024.0000 - val_accuracy: 1.4719e-04\n",
            "Epoch 73/100\n",
            "177/177 [==============================] - 1s 4ms/step - loss: -34204168467785973760.0000 - accuracy: 5.2989e-04 - val_loss: -35453490753869709312.0000 - val_accuracy: 1.4719e-04\n",
            "Epoch 74/100\n",
            "177/177 [==============================] - 1s 5ms/step - loss: -36403708493803028480.0000 - accuracy: 5.2989e-04 - val_loss: -37712325242949468160.0000 - val_accuracy: 1.4719e-04\n",
            "Epoch 75/100\n",
            "177/177 [==============================] - 1s 5ms/step - loss: -38708821427295879168.0000 - accuracy: 5.2989e-04 - val_loss: -40097979602200166400.0000 - val_accuracy: 1.4719e-04\n",
            "Epoch 76/100\n",
            "177/177 [==============================] - 1s 6ms/step - loss: -41125468820310327296.0000 - accuracy: 5.2989e-04 - val_loss: -42572012706091499520.0000 - val_accuracy: 1.4719e-04\n",
            "Epoch 77/100\n",
            "177/177 [==============================] - 1s 7ms/step - loss: -43650259778986311680.0000 - accuracy: 5.2989e-04 - val_loss: -45196252292476567552.0000 - val_accuracy: 1.4719e-04\n",
            "Epoch 78/100\n",
            "177/177 [==============================] - 1s 6ms/step - loss: -46285709985928183808.0000 - accuracy: 5.2989e-04 - val_loss: -47892672618201874432.0000 - val_accuracy: 1.4719e-04\n",
            "Epoch 79/100\n",
            "177/177 [==============================] - 1s 4ms/step - loss: -49053910828761219072.0000 - accuracy: 5.2989e-04 - val_loss: -50721355396655611904.0000 - val_accuracy: 1.4719e-04\n",
            "Epoch 80/100\n",
            "177/177 [==============================] - 1s 4ms/step - loss: -51963214197810003968.0000 - accuracy: 5.2989e-04 - val_loss: -53775816290803384320.0000 - val_accuracy: 1.4719e-04\n",
            "Epoch 81/100\n",
            "177/177 [==============================] - 1s 5ms/step - loss: -55016821870934622208.0000 - accuracy: 5.2989e-04 - val_loss: -56876887681875836928.0000 - val_accuracy: 1.4719e-04\n",
            "Epoch 82/100\n",
            "177/177 [==============================] - 1s 5ms/step - loss: -58210234646554214400.0000 - accuracy: 5.2989e-04 - val_loss: -60149170625579057152.0000 - val_accuracy: 1.4719e-04\n",
            "Epoch 83/100\n",
            "177/177 [==============================] - 1s 5ms/step - loss: -61559078783922733056.0000 - accuracy: 5.2989e-04 - val_loss: -63582347304797995008.0000 - val_accuracy: 1.4719e-04\n",
            "Epoch 84/100\n",
            "177/177 [==============================] - 1s 4ms/step - loss: -65053955657645948928.0000 - accuracy: 5.2989e-04 - val_loss: -67176171428928028672.0000 - val_accuracy: 1.4719e-04\n",
            "Epoch 85/100\n",
            "177/177 [==============================] - 1s 5ms/step - loss: -68709290860280283136.0000 - accuracy: 5.2989e-04 - val_loss: -70927300482620719104.0000 - val_accuracy: 1.4719e-04\n",
            "Epoch 86/100\n",
            "177/177 [==============================] - 1s 4ms/step - loss: -72505240405967634432.0000 - accuracy: 5.2989e-04 - val_loss: -74824334729319284736.0000 - val_accuracy: 1.4719e-04\n",
            "Epoch 87/100\n",
            "177/177 [==============================] - 1s 5ms/step - loss: -76455209540473847808.0000 - accuracy: 5.2989e-04 - val_loss: -78900725710787182592.0000 - val_accuracy: 1.4719e-04\n",
            "Epoch 88/100\n",
            "177/177 [==============================] - 1s 5ms/step - loss: -80583031277842595840.0000 - accuracy: 5.2989e-04 - val_loss: -83116182922936188928.0000 - val_accuracy: 1.4719e-04\n",
            "Epoch 89/100\n",
            "177/177 [==============================] - 1s 4ms/step - loss: -84885006860958040064.0000 - accuracy: 5.2989e-04 - val_loss: -87584545401659719680.0000 - val_accuracy: 1.4719e-04\n",
            "Epoch 90/100\n",
            "177/177 [==============================] - 1s 5ms/step - loss: -89392529545816440832.0000 - accuracy: 5.2989e-04 - val_loss: -92152224566697000960.0000 - val_accuracy: 1.4719e-04\n",
            "Epoch 91/100\n",
            "177/177 [==============================] - 1s 6ms/step - loss: -94085403502838808576.0000 - accuracy: 5.2989e-04 - val_loss: -97007351255607017472.0000 - val_accuracy: 1.4719e-04\n",
            "Epoch 92/100\n",
            "177/177 [==============================] - 1s 6ms/step - loss: -98975573826349301760.0000 - accuracy: 5.2989e-04 - val_loss: -101973449454085210112.0000 - val_accuracy: 1.4719e-04\n",
            "Epoch 93/100\n",
            "177/177 [==============================] - 1s 5ms/step - loss: -104039906791699513344.0000 - accuracy: 5.2989e-04 - val_loss: -107271872843035443200.0000 - val_accuracy: 1.4719e-04\n",
            "Epoch 94/100\n",
            "177/177 [==============================] - 1s 4ms/step - loss: -109320219025117020160.0000 - accuracy: 5.2989e-04 - val_loss: -112638545117744988160.0000 - val_accuracy: 1.4719e-04\n",
            "Epoch 95/100\n",
            "177/177 [==============================] - 1s 5ms/step - loss: -114827118614786605056.0000 - accuracy: 5.2989e-04 - val_loss: -118254498668703907840.0000 - val_accuracy: 1.4719e-04\n",
            "Epoch 96/100\n",
            "177/177 [==============================] - 1s 5ms/step - loss: -120488072977647140864.0000 - accuracy: 5.2989e-04 - val_loss: -124077098833033560064.0000 - val_accuracy: 1.4719e-04\n",
            "Epoch 97/100\n",
            "177/177 [==============================] - 1s 5ms/step - loss: -126345514466437758976.0000 - accuracy: 5.2989e-04 - val_loss: -130050147372415057920.0000 - val_accuracy: 1.4719e-04\n",
            "Epoch 98/100\n",
            "177/177 [==============================] - 1s 5ms/step - loss: -132473127952405495808.0000 - accuracy: 5.2989e-04 - val_loss: -136287149071206973440.0000 - val_accuracy: 1.4719e-04\n",
            "Epoch 99/100\n",
            "177/177 [==============================] - 1s 4ms/step - loss: -138879876654339981312.0000 - accuracy: 5.2989e-04 - val_loss: -142955308861668458496.0000 - val_accuracy: 1.4719e-04\n",
            "Epoch 100/100\n",
            "177/177 [==============================] - 1s 4ms/step - loss: -145581716684983500800.0000 - accuracy: 5.2989e-04 - val_loss: -149745725549045612544.0000 - val_accuracy: 1.4719e-04\n"
          ]
        },
        {
          "output_type": "execute_result",
          "data": {
            "text/plain": [
              "<keras.callbacks.History at 0x7f200dea62b0>"
            ]
          },
          "metadata": {},
          "execution_count": 7
        }
      ]
    },
    {
      "cell_type": "code",
      "source": [
        "#task-2\n",
        "import pandas as pd\n",
        "ml = pd.DataFrame(pd.read_excel(\"dl.xlsx\"))\n",
        "ml"
      ],
      "metadata": {
        "colab": {
          "base_uri": "https://localhost:8080/",
          "height": 488
        },
        "id": "0WiD7frxeI9J",
        "outputId": "c9abeeb6-35f4-40fe-91b8-14c6565ff68d"
      },
      "execution_count": null,
      "outputs": [
        {
          "output_type": "execute_result",
          "data": {
            "text/plain": [
              "      age  income student     rating buys\n",
              "0    <=30    high      no       fair   no\n",
              "1    <=30    high      no  excellent   no\n",
              "2   31-40    high      no       fair  yes\n",
              "3     >40  medium      no       fair  yes\n",
              "4     >40     low     yes       fair  yes\n",
              "5     >40     low     yes  excellent   no\n",
              "6   31-40     low     yes  excellent  yes\n",
              "7    <=30  medium      no       fair   no\n",
              "8    <=30     low     yes       fair  yes\n",
              "9     >40  medium     yes       fair  yes\n",
              "10   <=30  medium     yes  excellent  yes\n",
              "11  31-40  medium      no  excellent  yes\n",
              "12  31-40    high     yes       fair  yes\n",
              "13    >40  medium      no  excellent   no"
            ],
            "text/html": [
              "\n",
              "  <div id=\"df-c832ffc2-b259-45a8-9314-66ae7fe512f9\">\n",
              "    <div class=\"colab-df-container\">\n",
              "      <div>\n",
              "<style scoped>\n",
              "    .dataframe tbody tr th:only-of-type {\n",
              "        vertical-align: middle;\n",
              "    }\n",
              "\n",
              "    .dataframe tbody tr th {\n",
              "        vertical-align: top;\n",
              "    }\n",
              "\n",
              "    .dataframe thead th {\n",
              "        text-align: right;\n",
              "    }\n",
              "</style>\n",
              "<table border=\"1\" class=\"dataframe\">\n",
              "  <thead>\n",
              "    <tr style=\"text-align: right;\">\n",
              "      <th></th>\n",
              "      <th>age</th>\n",
              "      <th>income</th>\n",
              "      <th>student</th>\n",
              "      <th>rating</th>\n",
              "      <th>buys</th>\n",
              "    </tr>\n",
              "  </thead>\n",
              "  <tbody>\n",
              "    <tr>\n",
              "      <th>0</th>\n",
              "      <td>&lt;=30</td>\n",
              "      <td>high</td>\n",
              "      <td>no</td>\n",
              "      <td>fair</td>\n",
              "      <td>no</td>\n",
              "    </tr>\n",
              "    <tr>\n",
              "      <th>1</th>\n",
              "      <td>&lt;=30</td>\n",
              "      <td>high</td>\n",
              "      <td>no</td>\n",
              "      <td>excellent</td>\n",
              "      <td>no</td>\n",
              "    </tr>\n",
              "    <tr>\n",
              "      <th>2</th>\n",
              "      <td>31-40</td>\n",
              "      <td>high</td>\n",
              "      <td>no</td>\n",
              "      <td>fair</td>\n",
              "      <td>yes</td>\n",
              "    </tr>\n",
              "    <tr>\n",
              "      <th>3</th>\n",
              "      <td>&gt;40</td>\n",
              "      <td>medium</td>\n",
              "      <td>no</td>\n",
              "      <td>fair</td>\n",
              "      <td>yes</td>\n",
              "    </tr>\n",
              "    <tr>\n",
              "      <th>4</th>\n",
              "      <td>&gt;40</td>\n",
              "      <td>low</td>\n",
              "      <td>yes</td>\n",
              "      <td>fair</td>\n",
              "      <td>yes</td>\n",
              "    </tr>\n",
              "    <tr>\n",
              "      <th>5</th>\n",
              "      <td>&gt;40</td>\n",
              "      <td>low</td>\n",
              "      <td>yes</td>\n",
              "      <td>excellent</td>\n",
              "      <td>no</td>\n",
              "    </tr>\n",
              "    <tr>\n",
              "      <th>6</th>\n",
              "      <td>31-40</td>\n",
              "      <td>low</td>\n",
              "      <td>yes</td>\n",
              "      <td>excellent</td>\n",
              "      <td>yes</td>\n",
              "    </tr>\n",
              "    <tr>\n",
              "      <th>7</th>\n",
              "      <td>&lt;=30</td>\n",
              "      <td>medium</td>\n",
              "      <td>no</td>\n",
              "      <td>fair</td>\n",
              "      <td>no</td>\n",
              "    </tr>\n",
              "    <tr>\n",
              "      <th>8</th>\n",
              "      <td>&lt;=30</td>\n",
              "      <td>low</td>\n",
              "      <td>yes</td>\n",
              "      <td>fair</td>\n",
              "      <td>yes</td>\n",
              "    </tr>\n",
              "    <tr>\n",
              "      <th>9</th>\n",
              "      <td>&gt;40</td>\n",
              "      <td>medium</td>\n",
              "      <td>yes</td>\n",
              "      <td>fair</td>\n",
              "      <td>yes</td>\n",
              "    </tr>\n",
              "    <tr>\n",
              "      <th>10</th>\n",
              "      <td>&lt;=30</td>\n",
              "      <td>medium</td>\n",
              "      <td>yes</td>\n",
              "      <td>excellent</td>\n",
              "      <td>yes</td>\n",
              "    </tr>\n",
              "    <tr>\n",
              "      <th>11</th>\n",
              "      <td>31-40</td>\n",
              "      <td>medium</td>\n",
              "      <td>no</td>\n",
              "      <td>excellent</td>\n",
              "      <td>yes</td>\n",
              "    </tr>\n",
              "    <tr>\n",
              "      <th>12</th>\n",
              "      <td>31-40</td>\n",
              "      <td>high</td>\n",
              "      <td>yes</td>\n",
              "      <td>fair</td>\n",
              "      <td>yes</td>\n",
              "    </tr>\n",
              "    <tr>\n",
              "      <th>13</th>\n",
              "      <td>&gt;40</td>\n",
              "      <td>medium</td>\n",
              "      <td>no</td>\n",
              "      <td>excellent</td>\n",
              "      <td>no</td>\n",
              "    </tr>\n",
              "  </tbody>\n",
              "</table>\n",
              "</div>\n",
              "      <button class=\"colab-df-convert\" onclick=\"convertToInteractive('df-c832ffc2-b259-45a8-9314-66ae7fe512f9')\"\n",
              "              title=\"Convert this dataframe to an interactive table.\"\n",
              "              style=\"display:none;\">\n",
              "        \n",
              "  <svg xmlns=\"http://www.w3.org/2000/svg\" height=\"24px\"viewBox=\"0 0 24 24\"\n",
              "       width=\"24px\">\n",
              "    <path d=\"M0 0h24v24H0V0z\" fill=\"none\"/>\n",
              "    <path d=\"M18.56 5.44l.94 2.06.94-2.06 2.06-.94-2.06-.94-.94-2.06-.94 2.06-2.06.94zm-11 1L8.5 8.5l.94-2.06 2.06-.94-2.06-.94L8.5 2.5l-.94 2.06-2.06.94zm10 10l.94 2.06.94-2.06 2.06-.94-2.06-.94-.94-2.06-.94 2.06-2.06.94z\"/><path d=\"M17.41 7.96l-1.37-1.37c-.4-.4-.92-.59-1.43-.59-.52 0-1.04.2-1.43.59L10.3 9.45l-7.72 7.72c-.78.78-.78 2.05 0 2.83L4 21.41c.39.39.9.59 1.41.59.51 0 1.02-.2 1.41-.59l7.78-7.78 2.81-2.81c.8-.78.8-2.07 0-2.86zM5.41 20L4 18.59l7.72-7.72 1.47 1.35L5.41 20z\"/>\n",
              "  </svg>\n",
              "      </button>\n",
              "      \n",
              "  <style>\n",
              "    .colab-df-container {\n",
              "      display:flex;\n",
              "      flex-wrap:wrap;\n",
              "      gap: 12px;\n",
              "    }\n",
              "\n",
              "    .colab-df-convert {\n",
              "      background-color: #E8F0FE;\n",
              "      border: none;\n",
              "      border-radius: 50%;\n",
              "      cursor: pointer;\n",
              "      display: none;\n",
              "      fill: #1967D2;\n",
              "      height: 32px;\n",
              "      padding: 0 0 0 0;\n",
              "      width: 32px;\n",
              "    }\n",
              "\n",
              "    .colab-df-convert:hover {\n",
              "      background-color: #E2EBFA;\n",
              "      box-shadow: 0px 1px 2px rgba(60, 64, 67, 0.3), 0px 1px 3px 1px rgba(60, 64, 67, 0.15);\n",
              "      fill: #174EA6;\n",
              "    }\n",
              "\n",
              "    [theme=dark] .colab-df-convert {\n",
              "      background-color: #3B4455;\n",
              "      fill: #D2E3FC;\n",
              "    }\n",
              "\n",
              "    [theme=dark] .colab-df-convert:hover {\n",
              "      background-color: #434B5C;\n",
              "      box-shadow: 0px 1px 3px 1px rgba(0, 0, 0, 0.15);\n",
              "      filter: drop-shadow(0px 1px 2px rgba(0, 0, 0, 0.3));\n",
              "      fill: #FFFFFF;\n",
              "    }\n",
              "  </style>\n",
              "\n",
              "      <script>\n",
              "        const buttonEl =\n",
              "          document.querySelector('#df-c832ffc2-b259-45a8-9314-66ae7fe512f9 button.colab-df-convert');\n",
              "        buttonEl.style.display =\n",
              "          google.colab.kernel.accessAllowed ? 'block' : 'none';\n",
              "\n",
              "        async function convertToInteractive(key) {\n",
              "          const element = document.querySelector('#df-c832ffc2-b259-45a8-9314-66ae7fe512f9');\n",
              "          const dataTable =\n",
              "            await google.colab.kernel.invokeFunction('convertToInteractive',\n",
              "                                                     [key], {});\n",
              "          if (!dataTable) return;\n",
              "\n",
              "          const docLinkHtml = 'Like what you see? Visit the ' +\n",
              "            '<a target=\"_blank\" href=https://colab.research.google.com/notebooks/data_table.ipynb>data table notebook</a>'\n",
              "            + ' to learn more about interactive tables.';\n",
              "          element.innerHTML = '';\n",
              "          dataTable['output_type'] = 'display_data';\n",
              "          await google.colab.output.renderOutput(dataTable, element);\n",
              "          const docLink = document.createElement('div');\n",
              "          docLink.innerHTML = docLinkHtml;\n",
              "          element.appendChild(docLink);\n",
              "        }\n",
              "      </script>\n",
              "    </div>\n",
              "  </div>\n",
              "  "
            ]
          },
          "metadata": {},
          "execution_count": 8
        }
      ]
    },
    {
      "cell_type": "code",
      "source": [
        "import pandas as pd\n",
        "from sklearn.tree import DecisionTreeClassifier # Import Decision Tree Classifier\n",
        "from sklearn.model_selection import train_test_split # Import train_test_split function\n",
        "from sklearn import metrics #Import scikit-learn metrics module for accuracy calculation\n",
        "col_names = ['age','income','student','rating','buys']"
      ],
      "metadata": {
        "id": "9FTMwl26hPcp"
      },
      "execution_count": null,
      "outputs": []
    },
    {
      "cell_type": "code",
      "source": [
        "from sklearn import preprocessing\n",
        "# label_encoder object knows how to understand word labels.\n",
        "le = preprocessing.LabelEncoder()\n",
        "ml['age']= le.fit_transform(ml['age'])\n",
        "                                                                                                                                 "
      ],
      "metadata": {
        "id": "rojJsRvYl0xb"
      },
      "execution_count": null,
      "outputs": []
    },
    {
      "cell_type": "code",
      "source": [
        "ml['income']= le.fit_transform(ml['income'])"
      ],
      "metadata": {
        "id": "08CJZNSkt8r3"
      },
      "execution_count": null,
      "outputs": []
    },
    {
      "cell_type": "code",
      "source": [
        "ml['income'].unique()"
      ],
      "metadata": {
        "colab": {
          "base_uri": "https://localhost:8080/"
        },
        "id": "vjDW9YDfClOx",
        "outputId": "0f0a8a3c-7f21-4921-bc0b-7de309af7708"
      },
      "execution_count": 53,
      "outputs": [
        {
          "output_type": "execute_result",
          "data": {
            "text/plain": [
              "array([0, 2, 1])"
            ]
          },
          "metadata": {},
          "execution_count": 53
        }
      ]
    },
    {
      "cell_type": "code",
      "source": [
        "ml['student']= le.fit_transform(ml['student'])"
      ],
      "metadata": {
        "id": "CXMX_hLduAPX"
      },
      "execution_count": null,
      "outputs": []
    },
    {
      "cell_type": "code",
      "source": [
        "ml['rating']= le.fit_transform(ml['rating'])"
      ],
      "metadata": {
        "id": "nt5edpLYuDyW"
      },
      "execution_count": null,
      "outputs": []
    },
    {
      "cell_type": "code",
      "source": [
        "ml['buys']= le.fit_transform(ml['buys'])"
      ],
      "metadata": {
        "id": "CACb4qpFuHQp"
      },
      "execution_count": null,
      "outputs": []
    },
    {
      "cell_type": "code",
      "source": [
        "X = ml[['age','income','student','rating']]\n",
        "y = ml['buys']"
      ],
      "metadata": {
        "id": "2QlIQIyZrN2g"
      },
      "execution_count": null,
      "outputs": []
    },
    {
      "cell_type": "code",
      "source": [
        "from sklearn.model_selection import train_test_split\n",
        "X_train, X_test, y_train, y_test = train_test_split(X, y, test_size=0.30, random_state=1)"
      ],
      "metadata": {
        "id": "UzACrTGBxymx"
      },
      "execution_count": 48,
      "outputs": []
    },
    {
      "cell_type": "code",
      "source": [
        "from sklearn.tree import DecisionTreeClassifier\n",
        "dtree = DecisionTreeClassifier()\n",
        "dtree.fit(X_train,y_train)"
      ],
      "metadata": {
        "colab": {
          "base_uri": "https://localhost:8080/"
        },
        "id": "3J8kHue5x8dD",
        "outputId": "dbdc9e47-73e8-4320-f82c-d7079b49ea01"
      },
      "execution_count": null,
      "outputs": [
        {
          "output_type": "execute_result",
          "data": {
            "text/plain": [
              "DecisionTreeClassifier()"
            ]
          },
          "metadata": {},
          "execution_count": 30
        }
      ]
    },
    {
      "cell_type": "code",
      "source": [
        "predictions = dtree.predict(X_test)\n",
        "from sklearn.metrics import classification_report,confusion_matrix"
      ],
      "metadata": {
        "id": "pMovfG6lyD7y"
      },
      "execution_count": null,
      "outputs": []
    },
    {
      "cell_type": "code",
      "source": [
        "print(classification_report(y_test,predictions))"
      ],
      "metadata": {
        "colab": {
          "base_uri": "https://localhost:8080/"
        },
        "id": "VcIGFMUYyI7N",
        "outputId": "ba653b70-ff72-43c6-aca8-e8243ca26894"
      },
      "execution_count": null,
      "outputs": [
        {
          "output_type": "stream",
          "name": "stdout",
          "text": [
            "              precision    recall  f1-score   support\n",
            "\n",
            "           0       0.25      1.00      0.40         1\n",
            "           1       1.00      0.25      0.40         4\n",
            "\n",
            "    accuracy                           0.40         5\n",
            "   macro avg       0.62      0.62      0.40         5\n",
            "weighted avg       0.85      0.40      0.40         5\n",
            "\n"
          ]
        }
      ]
    },
    {
      "cell_type": "code",
      "source": [
        "print(confusion_matrix(y_test,predictions))"
      ],
      "metadata": {
        "colab": {
          "base_uri": "https://localhost:8080/"
        },
        "id": "zOFsTdGayNfz",
        "outputId": "f3cc502c-f0c0-4b0d-d660-d8fbfd64f7da"
      },
      "execution_count": null,
      "outputs": [
        {
          "output_type": "stream",
          "name": "stdout",
          "text": [
            "[[1 0]\n",
            " [3 1]]\n"
          ]
        }
      ]
    },
    {
      "cell_type": "code",
      "source": [
        "features = ['age', 'income', 'student', 'rating']"
      ],
      "metadata": {
        "id": "FPrhDUpOydtM"
      },
      "execution_count": null,
      "outputs": []
    },
    {
      "cell_type": "code",
      "source": [
        "from sklearn import tree\n",
        "tree.plot_tree(dtree, feature_names=features)"
      ],
      "metadata": {
        "colab": {
          "base_uri": "https://localhost:8080/",
          "height": 369
        },
        "id": "tsP8pXM3yVB4",
        "outputId": "db71dce6-2dad-4f78-f6c3-dfe1007f3308"
      },
      "execution_count": null,
      "outputs": [
        {
          "output_type": "execute_result",
          "data": {
            "text/plain": [
              "[Text(0.5, 0.8333333333333334, 'student <= 0.5\\ngini = 0.494\\nsamples = 9\\nvalue = [4, 5]'),\n",
              " Text(0.25, 0.5, 'age <= 0.5\\ngini = 0.375\\nsamples = 4\\nvalue = [3, 1]'),\n",
              " Text(0.125, 0.16666666666666666, 'gini = 0.0\\nsamples = 1\\nvalue = [0, 1]'),\n",
              " Text(0.375, 0.16666666666666666, 'gini = 0.0\\nsamples = 3\\nvalue = [3, 0]'),\n",
              " Text(0.75, 0.5, 'rating <= 0.5\\ngini = 0.32\\nsamples = 5\\nvalue = [1, 4]'),\n",
              " Text(0.625, 0.16666666666666666, 'gini = 0.0\\nsamples = 1\\nvalue = [1, 0]'),\n",
              " Text(0.875, 0.16666666666666666, 'gini = 0.0\\nsamples = 4\\nvalue = [0, 4]')]"
            ]
          },
          "metadata": {},
          "execution_count": 38
        },
        {
          "output_type": "display_data",
          "data": {
            "text/plain": [
              "<Figure size 432x288 with 1 Axes>"
            ],
            "image/png": "[encoded data removed]"
          },
          "metadata": {
            "needs_background": "light"
          }
        }
      ]
    },
    {
      "cell_type": "markdown",
      "source": [
        "**DECISION TREES WITHOUT USING PREDEFINED FUNCTIONS**"
      ],
      "metadata": {
        "id": "MQ5IuZxB_Snb"
      }
    },
    {
      "cell_type": "code",
      "source": [
        "class Node():\n",
        "    def __init__(self, feature_index=None, threshold=None, left=None, right=None, info_gain=None, value=None):\n",
        "        ''' constructor ''' \n",
        "        \n",
        "        # for decision node\n",
        "        self.feature_index = feature_index\n",
        "        self.threshold = threshold\n",
        "        self.left = left\n",
        "        self.right = right\n",
        "        self.info_gain = info_gain\n",
        "        \n",
        "        # for leaf node\n",
        "        self.value = value"
      ],
      "metadata": {
        "id": "kuSnMu1K_ZbB"
      },
      "execution_count": 39,
      "outputs": []
    },
    {
      "cell_type": "code",
      "source": [
        "class DecisionTreeClassifier():\n",
        "    def __init__(self, min_samples_split=2, max_depth=2):\n",
        "        ''' constructor '''\n",
        "        \n",
        "        # initialize the root of the tree \n",
        "        self.root = None\n",
        "        \n",
        "        # stopping conditions\n",
        "        self.min_samples_split = min_samples_split\n",
        "        self.max_depth = max_depth\n",
        "        \n",
        "    def build_tree(self, dataset, curr_depth=0):\n",
        "        ''' recursive function to build the tree ''' \n",
        "        \n",
        "        X, Y = dataset[:,:-1], dataset[:,-1]\n",
        "        num_samples, num_features = np.shape(X)\n",
        "        \n",
        "        # split until stopping conditions are met\n",
        "        if num_samples>=self.min_samples_split and curr_depth<=self.max_depth:\n",
        "            # find the best split\n",
        "            best_split = self.get_best_split(dataset, num_samples, num_features)\n",
        "            # check if information gain is positive\n",
        "            if best_split[\"info_gain\"]>0:\n",
        "                # recur left\n",
        "                left_subtree = self.build_tree(best_split[\"dataset_left\"], curr_depth+1)\n",
        "                # recur right\n",
        "                right_subtree = self.build_tree(best_split[\"dataset_right\"], curr_depth+1)\n",
        "                # return decision node\n",
        "                return Node(best_split[\"feature_index\"], best_split[\"threshold\"], \n",
        "                            left_subtree, right_subtree, best_split[\"info_gain\"])\n",
        "                \n",
        "        leaf_value = self.calculate_leaf_value(Y)\n",
        "        # return leaf node\n",
        "        return Node(value=leaf_value)\n",
        "    \n",
        "    def get_best_split(self, dataset, num_samples, num_features):\n",
        "        ''' function to find the best split '''\n",
        "        \n",
        "        # dictionary to store the best split\n",
        "        best_split = {}\n",
        "        max_info_gain = -float(\"inf\")\n",
        "        \n",
        "        # loop over all the features\n",
        "        for feature_index in range(num_features):\n",
        "            feature_values = dataset[:, feature_index]\n",
        "            possible_thresholds = np.unique(feature_values)\n",
        "            # loop over all the feature values present in the data\n",
        "            for threshold in possible_thresholds:\n",
        "                # get current split\n",
        "                dataset_left, dataset_right = self.split(dataset, feature_index, threshold)\n",
        "                # check if childs are not null\n",
        "                if len(dataset_left)>0 and len(dataset_right)>0:\n",
        "                    y, left_y, right_y = dataset[:, -1], dataset_left[:, -1], dataset_right[:, -1]\n",
        "                    # compute information gain\n",
        "                    curr_info_gain = self.information_gain(y, left_y, right_y, \"gini\")\n",
        "                    # update the best split if needed\n",
        "                    if curr_info_gain>max_info_gain:\n",
        "                        best_split[\"feature_index\"] = feature_index\n",
        "                        best_split[\"threshold\"] = threshold\n",
        "                        best_split[\"dataset_left\"] = dataset_left\n",
        "                        best_split[\"dataset_right\"] = dataset_right\n",
        "                        best_split[\"info_gain\"] = curr_info_gain\n",
        "                        max_info_gain = curr_info_gain\n",
        "        return best_split\n",
        "    \n",
        "    def split(self, dataset, feature_index, threshold):\n",
        "        ''' function to split the data '''\n",
        "        \n",
        "        dataset_left = np.array([row for row in dataset if row[feature_index]<=threshold])\n",
        "        dataset_right = np.array([row for row in dataset if row[feature_index]>threshold])\n",
        "        return dataset_left, dataset_right\n",
        "    \n",
        "    def information_gain(self, parent, l_child, r_child, mode=\"entropy\"):\n",
        "        ''' function to compute information gain '''\n",
        "        \n",
        "        weight_l = len(l_child) / len(parent)\n",
        "        weight_r = len(r_child) / len(parent)\n",
        "        if mode==\"gini\":\n",
        "            gain = self.gini_index(parent) - (weight_l*self.gini_index(l_child) + weight_r*self.gini_index(r_child))\n",
        "        else:\n",
        "            gain = self.entropy(parent) - (weight_l*self.entropy(l_child) + weight_r*self.entropy(r_child))\n",
        "        return gain\n",
        "    \n",
        "    def entropy(self, y):\n",
        "        ''' function to compute entropy '''\n",
        "        \n",
        "        class_labels = np.unique(y)\n",
        "        entropy = 0\n",
        "        for cls in class_labels:\n",
        "            p_cls = len(y[y == cls]) / len(y)\n",
        "            entropy += -p_cls * np.log2(p_cls)\n",
        "        return entropy\n",
        "    def gini_index(self, y):\n",
        "        ''' function to compute gini index '''\n",
        "        \n",
        "        class_labels = np.unique(y)\n",
        "        gini = 0\n",
        "        for cls in class_labels:\n",
        "            p_cls = len(y[y == cls]) / len(y)\n",
        "            gini += p_cls**2\n",
        "        return 1 - gini\n",
        "        \n",
        "    def calculate_leaf_value(self, Y):\n",
        "        ''' function to compute leaf node '''\n",
        "        \n",
        "        Y = list(Y)\n",
        "        return max(Y, key=Y.count)\n",
        "    \n",
        "    def print_tree(self, tree=None, indent=\" \"):\n",
        "        ''' function to print the tree '''\n",
        "        \n",
        "        if not tree:\n",
        "            tree = self.root\n",
        "\n",
        "        if tree.value is not None:\n",
        "            print(tree.value)\n",
        "\n",
        "        else:\n",
        "            print(\"X_\"+str(tree.feature_index), \"<=\", tree.threshold, \"?\", tree.info_gain)\n",
        "            print(\"%sleft:\" % (indent), end=\"\")\n",
        "            self.print_tree(tree.left, indent + indent)\n",
        "            print(\"%sright:\" % (indent), end=\"\")\n",
        "            self.print_tree(tree.right, indent + indent)\n",
        "    \n",
        "    def fit(self, X, Y):\n",
        "        ''' function to train the tree '''\n",
        "        dataset = np.concatenate((X, Y), axis=1)\n",
        "        self.root = self.build_tree(dataset)\n",
        "    \n",
        "    def predict(self, X):\n",
        "        ''' function to predict new dataset '''\n",
        "        \n",
        "        preditions = [self.make_prediction(x, self.root) for x in X]\n",
        "        return preditions\n",
        "    \n",
        "    def make_prediction(self, x, tree):\n",
        "        ''' function to predict a single data point '''\n",
        "        \n",
        "        if tree.value!=None: return tree.value\n",
        "        feature_val = x[tree.feature_index]\n",
        "        if feature_val<=tree.threshold:\n",
        "            return self.make_prediction(x, tree.left)\n",
        "        else:\n",
        "            return self.make_prediction(x, tree.right)"
      ],
      "metadata": {
        "id": "BPWOp1UuA8qT"
      },
      "execution_count": 44,
      "outputs": []
    },
    {
      "cell_type": "code",
      "source": [
        "X = ml.iloc[:, :-1].values\n",
        "y = ml.iloc[:, -1].values.reshape(-1,1)\n",
        "from sklearn.model_selection import train_test_split\n",
        "X_train, X_test, y_train, y_test = train_test_split(X, y, test_size=0.30, random_state=1)"
      ],
      "metadata": {
        "id": "SLLkaApJCT-S"
      },
      "execution_count": 55,
      "outputs": []
    },
    {
      "cell_type": "code",
      "source": [
        "from sklearn import tree\n",
        "tree.plot_tree(dtree, feature_names=features)"
      ],
      "metadata": {
        "colab": {
          "base_uri": "https://localhost:8080/",
          "height": 375
        },
        "id": "DZzQxCO3DmZj",
        "outputId": "dd785e8a-4b33-4496-9104-8f47881e0e3d"
      },
      "execution_count": 58,
      "outputs": [
        {
          "output_type": "execute_result",
          "data": {
            "text/plain": [
              "[Text(0.5, 0.8333333333333334, 'student <= 0.5\\ngini = 0.494\\nsamples = 9\\nvalue = [4, 5]'),\n",
              " Text(0.25, 0.5, 'age <= 0.5\\ngini = 0.375\\nsamples = 4\\nvalue = [3, 1]'),\n",
              " Text(0.125, 0.16666666666666666, 'gini = 0.0\\nsamples = 1\\nvalue = [0, 1]'),\n",
              " Text(0.375, 0.16666666666666666, 'gini = 0.0\\nsamples = 3\\nvalue = [3, 0]'),\n",
              " Text(0.75, 0.5, 'rating <= 0.5\\ngini = 0.32\\nsamples = 5\\nvalue = [1, 4]'),\n",
              " Text(0.625, 0.16666666666666666, 'gini = 0.0\\nsamples = 1\\nvalue = [1, 0]'),\n",
              " Text(0.875, 0.16666666666666666, 'gini = 0.0\\nsamples = 4\\nvalue = [0, 4]')]"
            ]
          },
          "metadata": {},
          "execution_count": 58
        },
        {
          "output_type": "display_data",
          "data": {
            "text/plain": [
              "<Figure size 432x288 with 1 Axes>"
            ],
            "image/png": "[encoded data removed]"
          },
          "metadata": {
            "needs_background": "light"
          }
        }
      ]
    },
    {
      "cell_type": "code",
      "source": [
        "Y_pred = classifier.predict(X_test) \n",
        "from sklearn.metrics import accuracy_score\n",
        "accuracy_score(y_test, Y_pred)"
      ],
      "metadata": {
        "colab": {
          "base_uri": "https://localhost:8080/"
        },
        "id": "YjGs655cDx6Z",
        "outputId": "cbba9eea-05bb-406d-f955-1c19747d305b"
      },
      "execution_count": 60,
      "outputs": [
        {
          "output_type": "execute_result",
          "data": {
            "text/plain": [
              "0.4"
            ]
          },
          "metadata": {},
          "execution_count": 60
        }
      ]
    }
  ]
}