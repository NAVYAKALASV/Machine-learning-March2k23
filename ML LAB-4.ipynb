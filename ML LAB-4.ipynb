{
 "cells": [
  {
   "cell_type": "code",
   "execution_count": 1,
   "id": "97c1e129",
   "metadata": {},
   "outputs": [],
   "source": [
    "#20BCE1858 - NAVYA KALA S V\n",
    "from IPython.display import Image\n",
    "%matplotlib inline"
   ]
  },
  {
   "cell_type": "code",
   "execution_count": 2,
   "id": "57b0920a",
   "metadata": {},
   "outputs": [
    {
     "name": "stdout",
     "output_type": "stream",
     "text": [
      "Class labels: [0 1 2]\n"
     ]
    }
   ],
   "source": [
    "from sklearn import datasets\n",
    "import numpy as np\n",
    "\n",
    "iris = datasets.load_iris()\n",
    "X = iris.data[:, [2, 3]]\n",
    "y = iris.target\n",
    "\n",
    "print('Class labels:', np.unique(y))"
   ]
  },
  {
   "cell_type": "code",
   "execution_count": 3,
   "id": "cc764d2b",
   "metadata": {},
   "outputs": [],
   "source": [
    "from sklearn.model_selection import train_test_split\n",
    "\n",
    "X_train, X_test, y_train, y_test = train_test_split(X, y, test_size=0.3, random_state=1, stratify=y)"
   ]
  },
  {
   "cell_type": "code",
   "execution_count": 4,
   "id": "aad37a27",
   "metadata": {},
   "outputs": [
    {
     "name": "stdout",
     "output_type": "stream",
     "text": [
      "Labels count in y: [50 50 50]\n",
      "Labels count in y_train: [35 35 35]\n",
      "Labels count in y_test: [15 15 15]\n"
     ]
    }
   ],
   "source": [
    "print('Labels count in y:', np.bincount(y))\n",
    "print('Labels count in y_train:', np.bincount(y_train))\n",
    "print('Labels count in y_test:', np.bincount(y_test))"
   ]
  },
  {
   "cell_type": "code",
   "execution_count": 5,
   "id": "c982be3c",
   "metadata": {},
   "outputs": [],
   "source": [
    "from sklearn.preprocessing import StandardScaler\n",
    "sc = StandardScaler()\n",
    "sc.fit(X_train)\n",
    "X_train_std = sc.transform(X_train)\n",
    "X_test_std = sc.transform(X_test)"
   ]
  },
  {
   "cell_type": "code",
   "execution_count": 6,
   "id": "c3023eee",
   "metadata": {},
   "outputs": [
    {
     "data": {
      "text/plain": [
       "Perceptron(eta0=0.1, random_state=1)"
      ]
     },
     "execution_count": 6,
     "metadata": {},
     "output_type": "execute_result"
    }
   ],
   "source": [
    "#Training a perceptron via scikit-learn\n",
    "from sklearn.linear_model import Perceptron\n",
    "ppn = Perceptron(eta0=0.1, random_state=1)\n",
    "ppn.fit(X_train_std, y_train)"
   ]
  },
  {
   "cell_type": "code",
   "execution_count": 7,
   "id": "2f173cae",
   "metadata": {},
   "outputs": [
    {
     "name": "stdout",
     "output_type": "stream",
     "text": [
      "Help on class Perceptron in module sklearn.linear_model._perceptron:\n",
      "\n",
      "class Perceptron(sklearn.linear_model._stochastic_gradient.BaseSGDClassifier)\n",
      " |  Perceptron(*, penalty=None, alpha=0.0001, l1_ratio=0.15, fit_intercept=True, max_iter=1000, tol=0.001, shuffle=True, verbose=0, eta0=1.0, n_jobs=None, random_state=0, early_stopping=False, validation_fraction=0.1, n_iter_no_change=5, class_weight=None, warm_start=False)\n",
      " |  \n",
      " |  Linear perceptron classifier.\n",
      " |  \n",
      " |  Read more in the :ref:`User Guide <perceptron>`.\n",
      " |  \n",
      " |  Parameters\n",
      " |  ----------\n",
      " |  \n",
      " |  penalty : {'l2','l1','elasticnet'}, default=None\n",
      " |      The penalty (aka regularization term) to be used.\n",
      " |  \n",
      " |  alpha : float, default=0.0001\n",
      " |      Constant that multiplies the regularization term if regularization is\n",
      " |      used.\n",
      " |  \n",
      " |  l1_ratio : float, default=0.15\n",
      " |      The Elastic Net mixing parameter, with `0 <= l1_ratio <= 1`.\n",
      " |      `l1_ratio=0` corresponds to L2 penalty, `l1_ratio=1` to L1.\n",
      " |      Only used if `penalty='elasticnet'`.\n",
      " |  \n",
      " |      .. versionadded:: 0.24\n",
      " |  \n",
      " |  fit_intercept : bool, default=True\n",
      " |      Whether the intercept should be estimated or not. If False, the\n",
      " |      data is assumed to be already centered.\n",
      " |  \n",
      " |  max_iter : int, default=1000\n",
      " |      The maximum number of passes over the training data (aka epochs).\n",
      " |      It only impacts the behavior in the ``fit`` method, and not the\n",
      " |      :meth:`partial_fit` method.\n",
      " |  \n",
      " |      .. versionadded:: 0.19\n",
      " |  \n",
      " |  tol : float, default=1e-3\n",
      " |      The stopping criterion. If it is not None, the iterations will stop\n",
      " |      when (loss > previous_loss - tol).\n",
      " |  \n",
      " |      .. versionadded:: 0.19\n",
      " |  \n",
      " |  shuffle : bool, default=True\n",
      " |      Whether or not the training data should be shuffled after each epoch.\n",
      " |  \n",
      " |  verbose : int, default=0\n",
      " |      The verbosity level.\n",
      " |  \n",
      " |  eta0 : float, default=1\n",
      " |      Constant by which the updates are multiplied.\n",
      " |  \n",
      " |  n_jobs : int, default=None\n",
      " |      The number of CPUs to use to do the OVA (One Versus All, for\n",
      " |      multi-class problems) computation.\n",
      " |      ``None`` means 1 unless in a :obj:`joblib.parallel_backend` context.\n",
      " |      ``-1`` means using all processors. See :term:`Glossary <n_jobs>`\n",
      " |      for more details.\n",
      " |  \n",
      " |  random_state : int, RandomState instance, default=None\n",
      " |      Used to shuffle the training data, when ``shuffle`` is set to\n",
      " |      ``True``. Pass an int for reproducible output across multiple\n",
      " |      function calls.\n",
      " |      See :term:`Glossary <random_state>`.\n",
      " |  \n",
      " |  early_stopping : bool, default=False\n",
      " |      Whether to use early stopping to terminate training when validation.\n",
      " |      score is not improving. If set to True, it will automatically set aside\n",
      " |      a stratified fraction of training data as validation and terminate\n",
      " |      training when validation score is not improving by at least tol for\n",
      " |      n_iter_no_change consecutive epochs.\n",
      " |  \n",
      " |      .. versionadded:: 0.20\n",
      " |  \n",
      " |  validation_fraction : float, default=0.1\n",
      " |      The proportion of training data to set aside as validation set for\n",
      " |      early stopping. Must be between 0 and 1.\n",
      " |      Only used if early_stopping is True.\n",
      " |  \n",
      " |      .. versionadded:: 0.20\n",
      " |  \n",
      " |  n_iter_no_change : int, default=5\n",
      " |      Number of iterations with no improvement to wait before early stopping.\n",
      " |  \n",
      " |      .. versionadded:: 0.20\n",
      " |  \n",
      " |  class_weight : dict, {class_label: weight} or \"balanced\", default=None\n",
      " |      Preset for the class_weight fit parameter.\n",
      " |  \n",
      " |      Weights associated with classes. If not given, all classes\n",
      " |      are supposed to have weight one.\n",
      " |  \n",
      " |      The \"balanced\" mode uses the values of y to automatically adjust\n",
      " |      weights inversely proportional to class frequencies in the input data\n",
      " |      as ``n_samples / (n_classes * np.bincount(y))``.\n",
      " |  \n",
      " |  warm_start : bool, default=False\n",
      " |      When set to True, reuse the solution of the previous call to fit as\n",
      " |      initialization, otherwise, just erase the previous solution. See\n",
      " |      :term:`the Glossary <warm_start>`.\n",
      " |  \n",
      " |  Attributes\n",
      " |  ----------\n",
      " |  classes_ : ndarray of shape (n_classes,)\n",
      " |      The unique classes labels.\n",
      " |  \n",
      " |  coef_ : ndarray of shape (1, n_features) if n_classes == 2 else             (n_classes, n_features)\n",
      " |      Weights assigned to the features.\n",
      " |  \n",
      " |  intercept_ : ndarray of shape (1,) if n_classes == 2 else (n_classes,)\n",
      " |      Constants in decision function.\n",
      " |  \n",
      " |  loss_function_ : concrete LossFunction\n",
      " |      The function that determines the loss, or difference between the\n",
      " |      output of the algorithm and the target values.\n",
      " |  \n",
      " |  n_features_in_ : int\n",
      " |      Number of features seen during :term:`fit`.\n",
      " |  \n",
      " |      .. versionadded:: 0.24\n",
      " |  \n",
      " |  feature_names_in_ : ndarray of shape (`n_features_in_`,)\n",
      " |      Names of features seen during :term:`fit`. Defined only when `X`\n",
      " |      has feature names that are all strings.\n",
      " |  \n",
      " |      .. versionadded:: 1.0\n",
      " |  \n",
      " |  n_iter_ : int\n",
      " |      The actual number of iterations to reach the stopping criterion.\n",
      " |      For multiclass fits, it is the maximum over every binary fit.\n",
      " |  \n",
      " |  t_ : int\n",
      " |      Number of weight updates performed during training.\n",
      " |      Same as ``(n_iter_ * n_samples)``.\n",
      " |  \n",
      " |  See Also\n",
      " |  --------\n",
      " |  sklearn.linear_model.SGDClassifier : Linear classifiers\n",
      " |      (SVM, logistic regression, etc.) with SGD training.\n",
      " |  \n",
      " |  Notes\n",
      " |  -----\n",
      " |  ``Perceptron`` is a classification algorithm which shares the same\n",
      " |  underlying implementation with ``SGDClassifier``. In fact,\n",
      " |  ``Perceptron()`` is equivalent to `SGDClassifier(loss=\"perceptron\",\n",
      " |  eta0=1, learning_rate=\"constant\", penalty=None)`.\n",
      " |  \n",
      " |  References\n",
      " |  ----------\n",
      " |  https://en.wikipedia.org/wiki/Perceptron and references therein.\n",
      " |  \n",
      " |  Examples\n",
      " |  --------\n",
      " |  >>> from sklearn.datasets import load_digits\n",
      " |  >>> from sklearn.linear_model import Perceptron\n",
      " |  >>> X, y = load_digits(return_X_y=True)\n",
      " |  >>> clf = Perceptron(tol=1e-3, random_state=0)\n",
      " |  >>> clf.fit(X, y)\n",
      " |  Perceptron()\n",
      " |  >>> clf.score(X, y)\n",
      " |  0.939...\n",
      " |  \n",
      " |  Method resolution order:\n",
      " |      Perceptron\n",
      " |      sklearn.linear_model._stochastic_gradient.BaseSGDClassifier\n",
      " |      sklearn.linear_model._base.LinearClassifierMixin\n",
      " |      sklearn.base.ClassifierMixin\n",
      " |      sklearn.linear_model._stochastic_gradient.BaseSGD\n",
      " |      sklearn.linear_model._base.SparseCoefMixin\n",
      " |      sklearn.base.BaseEstimator\n",
      " |      builtins.object\n",
      " |  \n",
      " |  Methods defined here:\n",
      " |  \n",
      " |  __init__(self, *, penalty=None, alpha=0.0001, l1_ratio=0.15, fit_intercept=True, max_iter=1000, tol=0.001, shuffle=True, verbose=0, eta0=1.0, n_jobs=None, random_state=0, early_stopping=False, validation_fraction=0.1, n_iter_no_change=5, class_weight=None, warm_start=False)\n",
      " |      Initialize self.  See help(type(self)) for accurate signature.\n",
      " |  \n",
      " |  ----------------------------------------------------------------------\n",
      " |  Data and other attributes defined here:\n",
      " |  \n",
      " |  __abstractmethods__ = frozenset()\n",
      " |  \n",
      " |  ----------------------------------------------------------------------\n",
      " |  Methods inherited from sklearn.linear_model._stochastic_gradient.BaseSGDClassifier:\n",
      " |  \n",
      " |  fit(self, X, y, coef_init=None, intercept_init=None, sample_weight=None)\n",
      " |      Fit linear model with Stochastic Gradient Descent.\n",
      " |      \n",
      " |      Parameters\n",
      " |      ----------\n",
      " |      X : {array-like, sparse matrix}, shape (n_samples, n_features)\n",
      " |          Training data.\n",
      " |      \n",
      " |      y : ndarray of shape (n_samples,)\n",
      " |          Target values.\n",
      " |      \n",
      " |      coef_init : ndarray of shape (n_classes, n_features), default=None\n",
      " |          The initial coefficients to warm-start the optimization.\n",
      " |      \n",
      " |      intercept_init : ndarray of shape (n_classes,), default=None\n",
      " |          The initial intercept to warm-start the optimization.\n",
      " |      \n",
      " |      sample_weight : array-like, shape (n_samples,), default=None\n",
      " |          Weights applied to individual samples.\n",
      " |          If not provided, uniform weights are assumed. These weights will\n",
      " |          be multiplied with class_weight (passed through the\n",
      " |          constructor) if class_weight is specified.\n",
      " |      \n",
      " |      Returns\n",
      " |      -------\n",
      " |      self : object\n",
      " |          Returns an instance of self.\n",
      " |  \n",
      " |  partial_fit(self, X, y, classes=None, sample_weight=None)\n",
      " |      Perform one epoch of stochastic gradient descent on given samples.\n",
      " |      \n",
      " |      Internally, this method uses ``max_iter = 1``. Therefore, it is not\n",
      " |      guaranteed that a minimum of the cost function is reached after calling\n",
      " |      it once. Matters such as objective convergence, early stopping, and\n",
      " |      learning rate adjustments should be handled by the user.\n",
      " |      \n",
      " |      Parameters\n",
      " |      ----------\n",
      " |      X : {array-like, sparse matrix}, shape (n_samples, n_features)\n",
      " |          Subset of the training data.\n",
      " |      \n",
      " |      y : ndarray of shape (n_samples,)\n",
      " |          Subset of the target values.\n",
      " |      \n",
      " |      classes : ndarray of shape (n_classes,), default=None\n",
      " |          Classes across all calls to partial_fit.\n",
      " |          Can be obtained by via `np.unique(y_all)`, where y_all is the\n",
      " |          target vector of the entire dataset.\n",
      " |          This argument is required for the first call to partial_fit\n",
      " |          and can be omitted in the subsequent calls.\n",
      " |          Note that y doesn't need to contain all labels in `classes`.\n",
      " |      \n",
      " |      sample_weight : array-like, shape (n_samples,), default=None\n",
      " |          Weights applied to individual samples.\n",
      " |          If not provided, uniform weights are assumed.\n",
      " |      \n",
      " |      Returns\n",
      " |      -------\n",
      " |      self : object\n",
      " |          Returns an instance of self.\n",
      " |  \n",
      " |  ----------------------------------------------------------------------\n",
      " |  Data and other attributes inherited from sklearn.linear_model._stochastic_gradient.BaseSGDClassifier:\n",
      " |  \n",
      " |  loss_functions = {'epsilon_insensitive': (<class 'sklearn.linear_model...\n",
      " |  \n",
      " |  ----------------------------------------------------------------------\n",
      " |  Methods inherited from sklearn.linear_model._base.LinearClassifierMixin:\n",
      " |  \n",
      " |  decision_function(self, X)\n",
      " |      Predict confidence scores for samples.\n",
      " |      \n",
      " |      The confidence score for a sample is proportional to the signed\n",
      " |      distance of that sample to the hyperplane.\n",
      " |      \n",
      " |      Parameters\n",
      " |      ----------\n",
      " |      X : {array-like, sparse matrix} of shape (n_samples, n_features)\n",
      " |          The data matrix for which we want to get the confidence scores.\n",
      " |      \n",
      " |      Returns\n",
      " |      -------\n",
      " |      scores : ndarray of shape (n_samples,) or (n_samples, n_classes)\n",
      " |          Confidence scores per `(n_samples, n_classes)` combination. In the\n",
      " |          binary case, confidence score for `self.classes_[1]` where >0 means\n",
      " |          this class would be predicted.\n",
      " |  \n",
      " |  predict(self, X)\n",
      " |      Predict class labels for samples in X.\n",
      " |      \n",
      " |      Parameters\n",
      " |      ----------\n",
      " |      X : {array-like, sparse matrix} of shape (n_samples, n_features)\n",
      " |          The data matrix for which we want to get the predictions.\n",
      " |      \n",
      " |      Returns\n",
      " |      -------\n",
      " |      y_pred : ndarray of shape (n_samples,)\n",
      " |          Vector containing the class labels for each sample.\n",
      " |  \n",
      " |  ----------------------------------------------------------------------\n",
      " |  Methods inherited from sklearn.base.ClassifierMixin:\n",
      " |  \n",
      " |  score(self, X, y, sample_weight=None)\n",
      " |      Return the mean accuracy on the given test data and labels.\n",
      " |      \n",
      " |      In multi-label classification, this is the subset accuracy\n",
      " |      which is a harsh metric since you require for each sample that\n",
      " |      each label set be correctly predicted.\n",
      " |      \n",
      " |      Parameters\n",
      " |      ----------\n",
      " |      X : array-like of shape (n_samples, n_features)\n",
      " |          Test samples.\n",
      " |      \n",
      " |      y : array-like of shape (n_samples,) or (n_samples, n_outputs)\n",
      " |          True labels for `X`.\n",
      " |      \n",
      " |      sample_weight : array-like of shape (n_samples,), default=None\n",
      " |          Sample weights.\n",
      " |      \n",
      " |      Returns\n",
      " |      -------\n",
      " |      score : float\n",
      " |          Mean accuracy of ``self.predict(X)`` wrt. `y`.\n",
      " |  \n",
      " |  ----------------------------------------------------------------------\n",
      " |  Data descriptors inherited from sklearn.base.ClassifierMixin:\n",
      " |  \n",
      " |  __dict__\n",
      " |      dictionary for instance variables (if defined)\n",
      " |  \n",
      " |  __weakref__\n",
      " |      list of weak references to the object (if defined)\n",
      " |  \n",
      " |  ----------------------------------------------------------------------\n",
      " |  Methods inherited from sklearn.linear_model._base.SparseCoefMixin:\n",
      " |  \n",
      " |  densify(self)\n",
      " |      Convert coefficient matrix to dense array format.\n",
      " |      \n",
      " |      Converts the ``coef_`` member (back) to a numpy.ndarray. This is the\n",
      " |      default format of ``coef_`` and is required for fitting, so calling\n",
      " |      this method is only required on models that have previously been\n",
      " |      sparsified; otherwise, it is a no-op.\n",
      " |      \n",
      " |      Returns\n",
      " |      -------\n",
      " |      self\n",
      " |          Fitted estimator.\n",
      " |  \n",
      " |  sparsify(self)\n",
      " |      Convert coefficient matrix to sparse format.\n",
      " |      \n",
      " |      Converts the ``coef_`` member to a scipy.sparse matrix, which for\n",
      " |      L1-regularized models can be much more memory- and storage-efficient\n",
      " |      than the usual numpy.ndarray representation.\n",
      " |      \n",
      " |      The ``intercept_`` member is not converted.\n",
      " |      \n",
      " |      Returns\n",
      " |      -------\n",
      " |      self\n",
      " |          Fitted estimator.\n",
      " |      \n",
      " |      Notes\n",
      " |      -----\n",
      " |      For non-sparse models, i.e. when there are not many zeros in ``coef_``,\n",
      " |      this may actually *increase* memory usage, so use this method with\n",
      " |      care. A rule of thumb is that the number of zero elements, which can\n",
      " |      be computed with ``(coef_ == 0).sum()``, must be more than 50% for this\n",
      " |      to provide significant benefits.\n",
      " |      \n",
      " |      After calling this method, further fitting with the partial_fit\n",
      " |      method (if any) will not work until you call densify.\n",
      " |  \n",
      " |  ----------------------------------------------------------------------\n",
      " |  Methods inherited from sklearn.base.BaseEstimator:\n",
      " |  \n",
      " |  __getstate__(self)\n",
      " |  \n",
      " |  __repr__(self, N_CHAR_MAX=700)\n",
      " |      Return repr(self).\n",
      " |  \n",
      " |  __setstate__(self, state)\n",
      " |  \n",
      " |  get_params(self, deep=True)\n",
      " |      Get parameters for this estimator.\n",
      " |      \n",
      " |      Parameters\n",
      " |      ----------\n",
      " |      deep : bool, default=True\n",
      " |          If True, will return the parameters for this estimator and\n",
      " |          contained subobjects that are estimators.\n",
      " |      \n",
      " |      Returns\n",
      " |      -------\n",
      " |      params : dict\n",
      " |          Parameter names mapped to their values.\n",
      " |  \n",
      " |  set_params(self, **params)\n",
      " |      Set the parameters of this estimator.\n",
      " |      \n",
      " |      The method works on simple estimators as well as on nested objects\n",
      " |      (such as :class:`~sklearn.pipeline.Pipeline`). The latter have\n",
      " |      parameters of the form ``<component>__<parameter>`` so that it's\n",
      " |      possible to update each component of a nested object.\n",
      " |      \n",
      " |      Parameters\n",
      " |      ----------\n",
      " |      **params : dict\n",
      " |          Estimator parameters.\n",
      " |      \n",
      " |      Returns\n",
      " |      -------\n",
      " |      self : estimator instance\n",
      " |          Estimator instance.\n",
      "\n"
     ]
    }
   ],
   "source": [
    "help(Perceptron)"
   ]
  },
  {
   "cell_type": "code",
   "execution_count": 8,
   "id": "79fb6001",
   "metadata": {},
   "outputs": [
    {
     "name": "stdout",
     "output_type": "stream",
     "text": [
      "Misclassified examples: 1\n"
     ]
    }
   ],
   "source": [
    "y_pred = ppn.predict(X_test_std)\n",
    "print('Misclassified examples: %d' % (y_test != y_pred).sum())"
   ]
  },
  {
   "cell_type": "code",
   "execution_count": 9,
   "id": "443ae7ff",
   "metadata": {},
   "outputs": [
    {
     "name": "stdout",
     "output_type": "stream",
     "text": [
      "Accuracy: 0.978\n"
     ]
    }
   ],
   "source": [
    "from sklearn.metrics import accuracy_score\n",
    "\n",
    "print('Accuracy: %.3f' % accuracy_score(y_test, y_pred))"
   ]
  },
  {
   "cell_type": "code",
   "execution_count": 10,
   "id": "7a276d78",
   "metadata": {},
   "outputs": [
    {
     "name": "stdout",
     "output_type": "stream",
     "text": [
      "Accuracy: 0.978\n"
     ]
    }
   ],
   "source": [
    "print('Accuracy: %.3f' % ppn.score(X_test_std, y_test))"
   ]
  },
  {
   "cell_type": "code",
   "execution_count": 11,
   "id": "f1f65393",
   "metadata": {},
   "outputs": [],
   "source": [
    "from matplotlib.colors import ListedColormap\n",
    "import matplotlib.pyplot as plt\n",
    "def plot_decision_regions(X, y, classifier, test_idx=None, resolution=0.02):\n",
    "\n",
    "    # setup marker generator and color map\n",
    "    markers = ('s', 'x', 'o', '^', 'v')\n",
    "    colors = ('red', 'blue', 'lightgreen', 'gray', 'cyan')\n",
    "    cmap = ListedColormap(colors[:len(np.unique(y))])\n",
    "\n",
    "    # plot the decision surface\n",
    "    x1_min, x1_max = X[:, 0].min() - 1, X[:, 0].max() + 1\n",
    "    x2_min, x2_max = X[:, 1].min() - 1, X[:, 1].max() + 1\n",
    "    xx1, xx2 = np.meshgrid(np.arange(x1_min, x1_max, resolution),\n",
    "                           np.arange(x2_min, x2_max, resolution))\n",
    "    Z = classifier.predict(np.array([xx1.ravel(), xx2.ravel()]).T)\n",
    "    Z = Z.reshape(xx1.shape)\n",
    "    plt.contourf(xx1, xx2, Z, alpha=0.3, cmap=cmap)\n",
    "    plt.xlim(xx1.min(), xx1.max())\n",
    "    plt.ylim(xx2.min(), xx2.max())\n",
    "\n",
    "    for idx, cl in enumerate(np.unique(y)):\n",
    "        plt.scatter(x=X[y == cl, 0], \n",
    "                    y=X[y == cl, 1],\n",
    "                    alpha=0.8, \n",
    "                    c=colors[idx],\n",
    "                    marker=markers[idx], \n",
    "                    label=cl, \n",
    "                    edgecolor='black')\n",
    "\n",
    "    # highlight test examples\n",
    "    if test_idx:\n",
    "        # plot all examples\n",
    "        X_test, y_test = X[test_idx, :], y[test_idx]\n",
    "\n",
    "        plt.scatter(X_test[:, 0],\n",
    "                    X_test[:, 1],\n",
    "                    c='',\n",
    "                    edgecolor='black',\n",
    "                    alpha=1.0,\n",
    "                    linewidth=1,\n",
    "                    marker='o',\n",
    "                    s=100, \n",
    "                    label='test set')"
   ]
  },
  {
   "cell_type": "code",
   "execution_count": 12,
   "id": "14a5e5ac",
   "metadata": {},
   "outputs": [
    {
     "name": "stderr",
     "output_type": "stream",
     "text": [
      "C:\\Users\\Navyakala SV\\AppData\\Local\\Temp\\ipykernel_20840\\3584047226.py:22: UserWarning: You passed a edgecolor/edgecolors ('black') for an unfilled marker ('x').  Matplotlib is ignoring the edgecolor in favor of the facecolor.  This behavior may change in the future.\n",
      "  plt.scatter(x=X[y == cl, 0],\n"
     ]
    },
    {
     "ename": "IndexError",
     "evalue": "index 150 is out of bounds for axis 0 with size 150",
     "output_type": "error",
     "traceback": [
      "\u001b[1;31m---------------------------------------------------------------------------\u001b[0m",
      "\u001b[1;31mIndexError\u001b[0m                                Traceback (most recent call last)",
      "\u001b[1;32m~\\AppData\\Local\\Temp\\ipykernel_20840\\4005353108.py\u001b[0m in \u001b[0;36m<module>\u001b[1;34m\u001b[0m\n\u001b[0;32m      1\u001b[0m \u001b[0mX_combined_std\u001b[0m \u001b[1;33m=\u001b[0m \u001b[0mnp\u001b[0m\u001b[1;33m.\u001b[0m\u001b[0mvstack\u001b[0m\u001b[1;33m(\u001b[0m\u001b[1;33m(\u001b[0m\u001b[0mX_train_std\u001b[0m\u001b[1;33m,\u001b[0m \u001b[0mX_test_std\u001b[0m\u001b[1;33m)\u001b[0m\u001b[1;33m)\u001b[0m\u001b[1;33m\u001b[0m\u001b[1;33m\u001b[0m\u001b[0m\n\u001b[0;32m      2\u001b[0m \u001b[0my_combined\u001b[0m \u001b[1;33m=\u001b[0m \u001b[0mnp\u001b[0m\u001b[1;33m.\u001b[0m\u001b[0mhstack\u001b[0m\u001b[1;33m(\u001b[0m\u001b[1;33m(\u001b[0m\u001b[0my_train\u001b[0m\u001b[1;33m,\u001b[0m \u001b[0my_test\u001b[0m\u001b[1;33m)\u001b[0m\u001b[1;33m)\u001b[0m\u001b[1;33m\u001b[0m\u001b[1;33m\u001b[0m\u001b[0m\n\u001b[1;32m----> 3\u001b[1;33m \u001b[0mplot_decision_regions\u001b[0m\u001b[1;33m(\u001b[0m\u001b[0mX\u001b[0m\u001b[1;33m=\u001b[0m\u001b[0mX_combined_std\u001b[0m\u001b[1;33m,\u001b[0m \u001b[0my\u001b[0m\u001b[1;33m=\u001b[0m\u001b[0my_combined\u001b[0m\u001b[1;33m,\u001b[0m \u001b[0mclassifier\u001b[0m\u001b[1;33m=\u001b[0m\u001b[0mppn\u001b[0m\u001b[1;33m,\u001b[0m \u001b[0mtest_idx\u001b[0m\u001b[1;33m=\u001b[0m\u001b[0mrange\u001b[0m\u001b[1;33m(\u001b[0m\u001b[1;36m0\u001b[0m\u001b[1;33m,\u001b[0m\u001b[1;36m360\u001b[0m\u001b[1;33m)\u001b[0m\u001b[1;33m)\u001b[0m\u001b[1;33m\u001b[0m\u001b[1;33m\u001b[0m\u001b[0m\n\u001b[0m\u001b[0;32m      4\u001b[0m \u001b[0mplt\u001b[0m\u001b[1;33m.\u001b[0m\u001b[0mxlabel\u001b[0m\u001b[1;33m(\u001b[0m\u001b[1;34m'petal length [standardized]'\u001b[0m\u001b[1;33m)\u001b[0m\u001b[1;33m\u001b[0m\u001b[1;33m\u001b[0m\u001b[0m\n\u001b[0;32m      5\u001b[0m \u001b[0mplt\u001b[0m\u001b[1;33m.\u001b[0m\u001b[0mylabel\u001b[0m\u001b[1;33m(\u001b[0m\u001b[1;34m'petal width [standardized]'\u001b[0m\u001b[1;33m)\u001b[0m\u001b[1;33m\u001b[0m\u001b[1;33m\u001b[0m\u001b[0m\n",
      "\u001b[1;32m~\\AppData\\Local\\Temp\\ipykernel_20840\\3584047226.py\u001b[0m in \u001b[0;36mplot_decision_regions\u001b[1;34m(X, y, classifier, test_idx, resolution)\u001b[0m\n\u001b[0;32m     31\u001b[0m     \u001b[1;32mif\u001b[0m \u001b[0mtest_idx\u001b[0m\u001b[1;33m:\u001b[0m\u001b[1;33m\u001b[0m\u001b[1;33m\u001b[0m\u001b[0m\n\u001b[0;32m     32\u001b[0m         \u001b[1;31m# plot all examples\u001b[0m\u001b[1;33m\u001b[0m\u001b[1;33m\u001b[0m\u001b[0m\n\u001b[1;32m---> 33\u001b[1;33m         \u001b[0mX_test\u001b[0m\u001b[1;33m,\u001b[0m \u001b[0my_test\u001b[0m \u001b[1;33m=\u001b[0m \u001b[0mX\u001b[0m\u001b[1;33m[\u001b[0m\u001b[0mtest_idx\u001b[0m\u001b[1;33m,\u001b[0m \u001b[1;33m:\u001b[0m\u001b[1;33m]\u001b[0m\u001b[1;33m,\u001b[0m \u001b[0my\u001b[0m\u001b[1;33m[\u001b[0m\u001b[0mtest_idx\u001b[0m\u001b[1;33m]\u001b[0m\u001b[1;33m\u001b[0m\u001b[1;33m\u001b[0m\u001b[0m\n\u001b[0m\u001b[0;32m     34\u001b[0m \u001b[1;33m\u001b[0m\u001b[0m\n\u001b[0;32m     35\u001b[0m         plt.scatter(X_test[:, 0],\n",
      "\u001b[1;31mIndexError\u001b[0m: index 150 is out of bounds for axis 0 with size 150"
     ]
    },
    {
     "data": {
      "image/png": "[encoded data removed]",
      "text/plain": [
       "<Figure size 640x480 with 1 Axes>"
      ]
     },
     "metadata": {},
     "output_type": "display_data"
    }
   ],
   "source": [
    "X_combined_std = np.vstack((X_train_std, X_test_std))\n",
    "y_combined = np.hstack((y_train, y_test))\n",
    "plot_decision_regions(X=X_combined_std, y=y_combined, classifier=ppn, test_idx=range(0,360))\n",
    "plt.xlabel('petal length [standardized]')\n",
    "plt.ylabel('petal width [standardized]')\n",
    "plt.legend(loc='upper left')\n",
    "\n",
    "plt.tight_layout()\n",
    "#plt.savefig('images/03_01.png', dpi=300)\n",
    "plt.show()"
   ]
  },
  {
   "cell_type": "code",
   "execution_count": 13,
   "id": "a493a8a9",
   "metadata": {},
   "outputs": [
    {
     "data": {
      "image/png": "[encoded data removed]",
      "text/plain": [
       "<Figure size 640x480 with 1 Axes>"
      ]
     },
     "metadata": {},
     "output_type": "display_data"
    }
   ],
   "source": [
    "#Logistic regression intuition and conditional probabilities\n",
    "import matplotlib.pyplot as plt\n",
    "import numpy as np\n",
    "def sigmoid(z):\n",
    "    return 1.0 / (1.0 + np.exp(-z))\n",
    "z = np.arange(-7, 7, 0.1)\n",
    "phi_z = sigmoid(z)\n",
    "plt.plot(z, phi_z)\n",
    "plt.axvline(0.0, color='k')\n",
    "plt.ylim(-0.1, 1.1)\n",
    "plt.xlabel('z')\n",
    "plt.ylabel('$\\phi (z)$')\n",
    "# y axis ticks and gridline\n",
    "plt.yticks([0.0, 0.5, 1.0])\n",
    "ax = plt.gca()\n",
    "ax.yaxis.grid(True)\n",
    "plt.tight_layout()\n",
    "#plt.savefig('images/03_02.png', dpi=300)\n",
    "plt.show()"
   ]
  },
  {
   "cell_type": "code",
   "execution_count": 14,
   "id": "4704d7c5",
   "metadata": {},
   "outputs": [
    {
     "name": "stderr",
     "output_type": "stream",
     "text": [
      "C:\\Users\\Navyakala SV\\AppData\\Local\\Temp\\ipykernel_20840\\3584047226.py:22: UserWarning: You passed a edgecolor/edgecolors ('black') for an unfilled marker ('x').  Matplotlib is ignoring the edgecolor in favor of the facecolor.  This behavior may change in the future.\n",
      "  plt.scatter(x=X[y == cl, 0],\n"
     ]
    },
    {
     "ename": "IndexError",
     "evalue": "index 150 is out of bounds for axis 0 with size 150",
     "output_type": "error",
     "traceback": [
      "\u001b[1;31m---------------------------------------------------------------------------\u001b[0m",
      "\u001b[1;31mIndexError\u001b[0m                                Traceback (most recent call last)",
      "\u001b[1;32m~\\AppData\\Local\\Temp\\ipykernel_20840\\1092638988.py\u001b[0m in \u001b[0;36m<module>\u001b[1;34m\u001b[0m\n\u001b[0;32m      3\u001b[0m \u001b[0mlr\u001b[0m \u001b[1;33m=\u001b[0m \u001b[0mLogisticRegression\u001b[0m\u001b[1;33m(\u001b[0m\u001b[0mC\u001b[0m\u001b[1;33m=\u001b[0m\u001b[1;36m100.0\u001b[0m\u001b[1;33m,\u001b[0m \u001b[0mrandom_state\u001b[0m\u001b[1;33m=\u001b[0m\u001b[1;36m1\u001b[0m\u001b[1;33m,\u001b[0m \u001b[0msolver\u001b[0m\u001b[1;33m=\u001b[0m\u001b[1;34m'lbfgs'\u001b[0m\u001b[1;33m,\u001b[0m \u001b[0mmulti_class\u001b[0m\u001b[1;33m=\u001b[0m\u001b[1;34m'ovr'\u001b[0m\u001b[1;33m)\u001b[0m\u001b[1;33m\u001b[0m\u001b[1;33m\u001b[0m\u001b[0m\n\u001b[0;32m      4\u001b[0m \u001b[0mlr\u001b[0m\u001b[1;33m.\u001b[0m\u001b[0mfit\u001b[0m\u001b[1;33m(\u001b[0m\u001b[0mX_train_std\u001b[0m\u001b[1;33m,\u001b[0m \u001b[0my_train\u001b[0m\u001b[1;33m)\u001b[0m\u001b[1;33m\u001b[0m\u001b[1;33m\u001b[0m\u001b[0m\n\u001b[1;32m----> 5\u001b[1;33m \u001b[0mplot_decision_regions\u001b[0m\u001b[1;33m(\u001b[0m\u001b[0mX_combined_std\u001b[0m\u001b[1;33m,\u001b[0m \u001b[0my_combined\u001b[0m\u001b[1;33m,\u001b[0m \u001b[0mclassifier\u001b[0m\u001b[1;33m=\u001b[0m\u001b[0mlr\u001b[0m\u001b[1;33m,\u001b[0m \u001b[0mtest_idx\u001b[0m\u001b[1;33m=\u001b[0m\u001b[0mrange\u001b[0m\u001b[1;33m(\u001b[0m\u001b[1;36m0\u001b[0m\u001b[1;33m,\u001b[0m\u001b[1;36m360\u001b[0m\u001b[1;33m)\u001b[0m\u001b[1;33m)\u001b[0m\u001b[1;33m\u001b[0m\u001b[1;33m\u001b[0m\u001b[0m\n\u001b[0m\u001b[0;32m      6\u001b[0m \u001b[0mplt\u001b[0m\u001b[1;33m.\u001b[0m\u001b[0mxlabel\u001b[0m\u001b[1;33m(\u001b[0m\u001b[1;34m'petal length [standardized]'\u001b[0m\u001b[1;33m)\u001b[0m\u001b[1;33m\u001b[0m\u001b[1;33m\u001b[0m\u001b[0m\n\u001b[0;32m      7\u001b[0m \u001b[0mplt\u001b[0m\u001b[1;33m.\u001b[0m\u001b[0mylabel\u001b[0m\u001b[1;33m(\u001b[0m\u001b[1;34m'petal width [standardized]'\u001b[0m\u001b[1;33m)\u001b[0m\u001b[1;33m\u001b[0m\u001b[1;33m\u001b[0m\u001b[0m\n",
      "\u001b[1;32m~\\AppData\\Local\\Temp\\ipykernel_20840\\3584047226.py\u001b[0m in \u001b[0;36mplot_decision_regions\u001b[1;34m(X, y, classifier, test_idx, resolution)\u001b[0m\n\u001b[0;32m     31\u001b[0m     \u001b[1;32mif\u001b[0m \u001b[0mtest_idx\u001b[0m\u001b[1;33m:\u001b[0m\u001b[1;33m\u001b[0m\u001b[1;33m\u001b[0m\u001b[0m\n\u001b[0;32m     32\u001b[0m         \u001b[1;31m# plot all examples\u001b[0m\u001b[1;33m\u001b[0m\u001b[1;33m\u001b[0m\u001b[0m\n\u001b[1;32m---> 33\u001b[1;33m         \u001b[0mX_test\u001b[0m\u001b[1;33m,\u001b[0m \u001b[0my_test\u001b[0m \u001b[1;33m=\u001b[0m \u001b[0mX\u001b[0m\u001b[1;33m[\u001b[0m\u001b[0mtest_idx\u001b[0m\u001b[1;33m,\u001b[0m \u001b[1;33m:\u001b[0m\u001b[1;33m]\u001b[0m\u001b[1;33m,\u001b[0m \u001b[0my\u001b[0m\u001b[1;33m[\u001b[0m\u001b[0mtest_idx\u001b[0m\u001b[1;33m]\u001b[0m\u001b[1;33m\u001b[0m\u001b[1;33m\u001b[0m\u001b[0m\n\u001b[0m\u001b[0;32m     34\u001b[0m \u001b[1;33m\u001b[0m\u001b[0m\n\u001b[0;32m     35\u001b[0m         plt.scatter(X_test[:, 0],\n",
      "\u001b[1;31mIndexError\u001b[0m: index 150 is out of bounds for axis 0 with size 150"
     ]
    },
    {
     "data": {
      "image/png": "[encoded data removed]",
      "text/plain": [
       "<Figure size 640x480 with 1 Axes>"
      ]
     },
     "metadata": {},
     "output_type": "display_data"
    }
   ],
   "source": [
    "#Training a logistic regression model with scikit-learn\n",
    "from sklearn.linear_model import LogisticRegression\n",
    "lr = LogisticRegression(C=100.0, random_state=1, solver='lbfgs', multi_class='ovr')\n",
    "lr.fit(X_train_std, y_train)\n",
    "plot_decision_regions(X_combined_std, y_combined, classifier=lr, test_idx=range(0,360))\n",
    "plt.xlabel('petal length [standardized]')\n",
    "plt.ylabel('petal width [standardized]')\n",
    "plt.legend(loc='upper left')\n",
    "plt.tight_layout()\n",
    "# plt.savefig('images/03_06.png', dpi=300)\n",
    "plt.show()"
   ]
  },
  {
   "cell_type": "code",
   "execution_count": 15,
   "id": "3ee82f8f",
   "metadata": {},
   "outputs": [
    {
     "data": {
      "text/plain": [
       "array([[3.81527885e-09, 1.44792866e-01, 8.55207131e-01],\n",
       "       [8.34020679e-01, 1.65979321e-01, 3.25737138e-13],\n",
       "       [8.48831425e-01, 1.51168575e-01, 2.62277619e-14]])"
      ]
     },
     "execution_count": 15,
     "metadata": {},
     "output_type": "execute_result"
    }
   ],
   "source": [
    "lr.predict_proba(X_test_std[:3, :])"
   ]
  },
  {
   "cell_type": "code",
   "execution_count": 16,
   "id": "b6a14af3",
   "metadata": {},
   "outputs": [
    {
     "data": {
      "text/plain": [
       "array([1., 1., 1.])"
      ]
     },
     "execution_count": 16,
     "metadata": {},
     "output_type": "execute_result"
    }
   ],
   "source": [
    "lr.predict_proba(X_test_std[:3, :]).sum(axis=1)"
   ]
  },
  {
   "cell_type": "code",
   "execution_count": 17,
   "id": "7434e191",
   "metadata": {},
   "outputs": [
    {
     "data": {
      "text/plain": [
       "array([2, 0, 0], dtype=int64)"
      ]
     },
     "execution_count": 17,
     "metadata": {},
     "output_type": "execute_result"
    }
   ],
   "source": [
    "lr.predict_proba(X_test_std[:3, :]).argmax(axis=1)"
   ]
  },
  {
   "cell_type": "code",
   "execution_count": 18,
   "id": "8353898f",
   "metadata": {},
   "outputs": [
    {
     "data": {
      "text/plain": [
       "array([2, 0, 0])"
      ]
     },
     "execution_count": 18,
     "metadata": {},
     "output_type": "execute_result"
    }
   ],
   "source": [
    "lr.predict(X_test_std[:3, :])"
   ]
  },
  {
   "cell_type": "code",
   "execution_count": 19,
   "id": "2b665de7",
   "metadata": {},
   "outputs": [
    {
     "data": {
      "text/plain": [
       "array([2])"
      ]
     },
     "execution_count": 19,
     "metadata": {},
     "output_type": "execute_result"
    }
   ],
   "source": [
    "lr.predict(X_test_std[0, :].reshape(1, -1))"
   ]
  },
  {
   "cell_type": "code",
   "execution_count": 20,
   "id": "f3c50d28",
   "metadata": {},
   "outputs": [
    {
     "data": {
      "text/plain": [
       "array([2, 0, 0, 1, 1, 1, 2, 1, 2, 0, 0, 2, 0, 1, 0, 1, 2, 1, 1, 2, 2, 0,\n",
       "       1, 2, 1, 1, 1, 2, 0, 2, 0, 0, 1, 1, 2, 2, 0, 0, 0, 1, 2, 2, 1, 0,\n",
       "       0])"
      ]
     },
     "execution_count": 20,
     "metadata": {},
     "output_type": "execute_result"
    }
   ],
   "source": [
    "lr.predict(X_test_std)"
   ]
  },
  {
   "cell_type": "code",
   "execution_count": 21,
   "id": "69784967",
   "metadata": {},
   "outputs": [
    {
     "data": {
      "text/plain": [
       "array([2, 0, 0, 2, 1, 1, 2, 1, 2, 0, 0, 2, 0, 1, 0, 1, 2, 1, 1, 2, 2, 0,\n",
       "       1, 2, 1, 1, 1, 2, 0, 2, 0, 0, 1, 1, 2, 2, 0, 0, 0, 1, 2, 2, 1, 0,\n",
       "       0])"
      ]
     },
     "execution_count": 21,
     "metadata": {},
     "output_type": "execute_result"
    }
   ],
   "source": [
    "y_test"
   ]
  },
  {
   "cell_type": "code",
   "execution_count": 22,
   "id": "b194d7fd",
   "metadata": {},
   "outputs": [],
   "source": [
    "import os\n",
    "from pathlib import Path\n",
    "import pandas as pd\n",
    "#getting my datasets\n",
    "m1 = pd.read_csv(\"train.csv\")\n",
    "m2 = pd.read_csv(\"test.csv\")\n",
    "import warnings\n",
    "warnings.filterwarnings('ignore')"
   ]
  },
  {
   "cell_type": "code",
   "execution_count": 23,
   "id": "a828f905",
   "metadata": {},
   "outputs": [
    {
     "name": "stdout",
     "output_type": "stream",
     "text": [
      "Class labels: [ 0  1  2  3  4  5  6  7 10 11 12 14]\n"
     ]
    }
   ],
   "source": [
    "#settings class labels as target \n",
    "target=m1[\"Label\"]\n",
    "print('Class labels:', np.unique(target))"
   ]
  },
  {
   "cell_type": "code",
   "execution_count": 24,
   "id": "4f59f97e",
   "metadata": {},
   "outputs": [],
   "source": [
    "x=m1\n",
    "y=target"
   ]
  },
  {
   "cell_type": "code",
   "execution_count": 25,
   "id": "d32a9cd3",
   "metadata": {},
   "outputs": [
    {
     "data": {
      "text/plain": [
       "0     18137\n",
       "4      1927\n",
       "10     1275\n",
       "2      1005\n",
       "3        83\n",
       "7        51\n",
       "11       49\n",
       "6        43\n",
       "5        37\n",
       "12       18\n",
       "1        16\n",
       "14        5\n",
       "Name: Label, dtype: int64"
      ]
     },
     "execution_count": 25,
     "metadata": {},
     "output_type": "execute_result"
    }
   ],
   "source": [
    "m1[\"Label\"].value_counts()"
   ]
  },
  {
   "cell_type": "code",
   "execution_count": 26,
   "id": "4289beba",
   "metadata": {},
   "outputs": [],
   "source": [
    "from sklearn.model_selection import train_test_split\n",
    "X_train, X_test, y_train, y_test = train_test_split(x, y, test_size=0.3, random_state=1, stratify=y)"
   ]
  },
  {
   "cell_type": "code",
   "execution_count": 27,
   "id": "55089a52",
   "metadata": {},
   "outputs": [
    {
     "name": "stdout",
     "output_type": "stream",
     "text": [
      "Labels count in y: [18137    16  1005    83  1927    37    43    51     0     0  1275    49\n",
      "    18     0     5]\n",
      "Labels count in y_train: [12696    11   703    58  1349    26    30    36     0     0   892    34\n",
      "    13     0     4]\n",
      "Labels count in y_test: [5441    5  302   25  578   11   13   15    0    0  383   15    5    0\n",
      "    1]\n"
     ]
    }
   ],
   "source": [
    "print('Labels count in y:', np.bincount(y))\n",
    "print('Labels count in y_train:', np.bincount(y_train))\n",
    "print('Labels count in y_test:', np.bincount(y_test))"
   ]
  },
  {
   "cell_type": "code",
   "execution_count": 28,
   "id": "5389f6fc",
   "metadata": {},
   "outputs": [],
   "source": [
    "from sklearn.preprocessing import StandardScaler\n",
    "\n",
    "sc = StandardScaler()\n",
    "sc.fit(X_train)\n",
    "X_train_std = sc.transform(X_train)\n",
    "X_test_std = sc.transform(X_test)"
   ]
  },
  {
   "cell_type": "code",
   "execution_count": 29,
   "id": "f4abb945",
   "metadata": {},
   "outputs": [
    {
     "data": {
      "text/plain": [
       "Perceptron(eta0=0.1, random_state=1)"
      ]
     },
     "execution_count": 29,
     "metadata": {},
     "output_type": "execute_result"
    }
   ],
   "source": [
    "from sklearn.linear_model import Perceptron\n",
    "\n",
    "ppn = Perceptron(eta0=0.1, random_state=1)\n",
    "ppn.fit(X_train_std, y_train)"
   ]
  },
  {
   "cell_type": "code",
   "execution_count": 30,
   "id": "7e8b6478",
   "metadata": {},
   "outputs": [
    {
     "name": "stdout",
     "output_type": "stream",
     "text": [
      "Misclassified examples: 59\n"
     ]
    }
   ],
   "source": [
    "y_pred = ppn.predict(X_test_std)\n",
    "print('Misclassified examples: %d' % (y_test != y_pred).sum())"
   ]
  },
  {
   "cell_type": "code",
   "execution_count": 31,
   "id": "472e76da",
   "metadata": {},
   "outputs": [
    {
     "name": "stdout",
     "output_type": "stream",
     "text": [
      "Accuracy: 0.991\n"
     ]
    }
   ],
   "source": [
    "from sklearn.metrics import accuracy_score\n",
    "\n",
    "print('Accuracy: %.3f' % accuracy_score(y_test, y_pred))"
   ]
  },
  {
   "cell_type": "code",
   "execution_count": 32,
   "id": "82bb4ea3",
   "metadata": {},
   "outputs": [
    {
     "name": "stdout",
     "output_type": "stream",
     "text": [
      "Accuracy: 0.991\n"
     ]
    }
   ],
   "source": [
    "print('Accuracy: %.3f' % ppn.score(X_test_std, y_test))"
   ]
  },
  {
   "cell_type": "code",
   "execution_count": 33,
   "id": "7afd6a27",
   "metadata": {},
   "outputs": [
    {
     "data": {
      "text/plain": [
       "LogisticRegression(C=100.0, multi_class='ovr', random_state=1)"
      ]
     },
     "execution_count": 33,
     "metadata": {},
     "output_type": "execute_result"
    }
   ],
   "source": [
    "from sklearn.linear_model import LogisticRegression\n",
    "lr = LogisticRegression(C=100.0, random_state=1, solver='lbfgs', multi_class='ovr')\n",
    "lr.fit(X_train_std, y_train)"
   ]
  },
  {
   "cell_type": "code",
   "execution_count": 34,
   "id": "3b4a2de5",
   "metadata": {},
   "outputs": [
    {
     "ename": "ValueError",
     "evalue": "X has 2 features, but LogisticRegression is expecting 80 features as input.",
     "output_type": "error",
     "traceback": [
      "\u001b[1;31m---------------------------------------------------------------------------\u001b[0m",
      "\u001b[1;31mValueError\u001b[0m                                Traceback (most recent call last)",
      "\u001b[1;32m~\\AppData\\Local\\Temp\\ipykernel_20840\\2744926265.py\u001b[0m in \u001b[0;36m<module>\u001b[1;34m\u001b[0m\n\u001b[0;32m      1\u001b[0m \u001b[0mX_combined_std\u001b[0m \u001b[1;33m=\u001b[0m \u001b[0mnp\u001b[0m\u001b[1;33m.\u001b[0m\u001b[0mvstack\u001b[0m\u001b[1;33m(\u001b[0m\u001b[1;33m(\u001b[0m\u001b[0mX_train_std\u001b[0m\u001b[1;33m,\u001b[0m \u001b[0mX_test_std\u001b[0m\u001b[1;33m)\u001b[0m\u001b[1;33m)\u001b[0m\u001b[1;33m\u001b[0m\u001b[1;33m\u001b[0m\u001b[0m\n\u001b[0;32m      2\u001b[0m \u001b[0my_combined\u001b[0m \u001b[1;33m=\u001b[0m \u001b[0mnp\u001b[0m\u001b[1;33m.\u001b[0m\u001b[0mhstack\u001b[0m\u001b[1;33m(\u001b[0m\u001b[1;33m(\u001b[0m\u001b[0my_train\u001b[0m\u001b[1;33m,\u001b[0m \u001b[0my_test\u001b[0m\u001b[1;33m)\u001b[0m\u001b[1;33m)\u001b[0m\u001b[1;33m\u001b[0m\u001b[1;33m\u001b[0m\u001b[0m\n\u001b[1;32m----> 3\u001b[1;33m \u001b[0mplot_decision_regions\u001b[0m\u001b[1;33m(\u001b[0m\u001b[0mX_combined_std\u001b[0m\u001b[1;33m,\u001b[0m\u001b[0my_combined\u001b[0m\u001b[1;33m,\u001b[0m \u001b[0mclassifier\u001b[0m\u001b[1;33m=\u001b[0m\u001b[0mlr\u001b[0m\u001b[1;33m,\u001b[0m \u001b[0mtest_idx\u001b[0m\u001b[1;33m=\u001b[0m\u001b[0mrange\u001b[0m\u001b[1;33m(\u001b[0m\u001b[1;36m0\u001b[0m\u001b[1;33m,\u001b[0m\u001b[1;36m360\u001b[0m\u001b[1;33m)\u001b[0m\u001b[1;33m)\u001b[0m\u001b[1;33m\u001b[0m\u001b[1;33m\u001b[0m\u001b[0m\n\u001b[0m\u001b[0;32m      4\u001b[0m \u001b[0mplt\u001b[0m\u001b[1;33m.\u001b[0m\u001b[0mxlabel\u001b[0m\u001b[1;33m(\u001b[0m\u001b[1;34m'x'\u001b[0m\u001b[1;33m)\u001b[0m\u001b[1;33m\u001b[0m\u001b[1;33m\u001b[0m\u001b[0m\n\u001b[0;32m      5\u001b[0m \u001b[0mplt\u001b[0m\u001b[1;33m.\u001b[0m\u001b[0mylabel\u001b[0m\u001b[1;33m(\u001b[0m\u001b[1;34m'y'\u001b[0m\u001b[1;33m)\u001b[0m\u001b[1;33m\u001b[0m\u001b[1;33m\u001b[0m\u001b[0m\n",
      "\u001b[1;32m~\\AppData\\Local\\Temp\\ipykernel_20840\\3584047226.py\u001b[0m in \u001b[0;36mplot_decision_regions\u001b[1;34m(X, y, classifier, test_idx, resolution)\u001b[0m\n\u001b[0;32m     13\u001b[0m     xx1, xx2 = np.meshgrid(np.arange(x1_min, x1_max, resolution),\n\u001b[0;32m     14\u001b[0m                            np.arange(x2_min, x2_max, resolution))\n\u001b[1;32m---> 15\u001b[1;33m     \u001b[0mZ\u001b[0m \u001b[1;33m=\u001b[0m \u001b[0mclassifier\u001b[0m\u001b[1;33m.\u001b[0m\u001b[0mpredict\u001b[0m\u001b[1;33m(\u001b[0m\u001b[0mnp\u001b[0m\u001b[1;33m.\u001b[0m\u001b[0marray\u001b[0m\u001b[1;33m(\u001b[0m\u001b[1;33m[\u001b[0m\u001b[0mxx1\u001b[0m\u001b[1;33m.\u001b[0m\u001b[0mravel\u001b[0m\u001b[1;33m(\u001b[0m\u001b[1;33m)\u001b[0m\u001b[1;33m,\u001b[0m \u001b[0mxx2\u001b[0m\u001b[1;33m.\u001b[0m\u001b[0mravel\u001b[0m\u001b[1;33m(\u001b[0m\u001b[1;33m)\u001b[0m\u001b[1;33m]\u001b[0m\u001b[1;33m)\u001b[0m\u001b[1;33m.\u001b[0m\u001b[0mT\u001b[0m\u001b[1;33m)\u001b[0m\u001b[1;33m\u001b[0m\u001b[1;33m\u001b[0m\u001b[0m\n\u001b[0m\u001b[0;32m     16\u001b[0m     \u001b[0mZ\u001b[0m \u001b[1;33m=\u001b[0m \u001b[0mZ\u001b[0m\u001b[1;33m.\u001b[0m\u001b[0mreshape\u001b[0m\u001b[1;33m(\u001b[0m\u001b[0mxx1\u001b[0m\u001b[1;33m.\u001b[0m\u001b[0mshape\u001b[0m\u001b[1;33m)\u001b[0m\u001b[1;33m\u001b[0m\u001b[1;33m\u001b[0m\u001b[0m\n\u001b[0;32m     17\u001b[0m     \u001b[0mplt\u001b[0m\u001b[1;33m.\u001b[0m\u001b[0mcontourf\u001b[0m\u001b[1;33m(\u001b[0m\u001b[0mxx1\u001b[0m\u001b[1;33m,\u001b[0m \u001b[0mxx2\u001b[0m\u001b[1;33m,\u001b[0m \u001b[0mZ\u001b[0m\u001b[1;33m,\u001b[0m \u001b[0malpha\u001b[0m\u001b[1;33m=\u001b[0m\u001b[1;36m0.3\u001b[0m\u001b[1;33m,\u001b[0m \u001b[0mcmap\u001b[0m\u001b[1;33m=\u001b[0m\u001b[0mcmap\u001b[0m\u001b[1;33m)\u001b[0m\u001b[1;33m\u001b[0m\u001b[1;33m\u001b[0m\u001b[0m\n",
      "\u001b[1;32mC:\\ProgramData\\Anaconda3\\lib\\site-packages\\sklearn\\linear_model\\_base.py\u001b[0m in \u001b[0;36mpredict\u001b[1;34m(self, X)\u001b[0m\n\u001b[0;32m    423\u001b[0m             \u001b[0mVector\u001b[0m \u001b[0mcontaining\u001b[0m \u001b[0mthe\u001b[0m \u001b[1;32mclass\u001b[0m \u001b[0mlabels\u001b[0m \u001b[1;32mfor\u001b[0m \u001b[0meach\u001b[0m \u001b[0msample\u001b[0m\u001b[1;33m.\u001b[0m\u001b[1;33m\u001b[0m\u001b[1;33m\u001b[0m\u001b[0m\n\u001b[0;32m    424\u001b[0m         \"\"\"\n\u001b[1;32m--> 425\u001b[1;33m         \u001b[0mscores\u001b[0m \u001b[1;33m=\u001b[0m \u001b[0mself\u001b[0m\u001b[1;33m.\u001b[0m\u001b[0mdecision_function\u001b[0m\u001b[1;33m(\u001b[0m\u001b[0mX\u001b[0m\u001b[1;33m)\u001b[0m\u001b[1;33m\u001b[0m\u001b[1;33m\u001b[0m\u001b[0m\n\u001b[0m\u001b[0;32m    426\u001b[0m         \u001b[1;32mif\u001b[0m \u001b[0mlen\u001b[0m\u001b[1;33m(\u001b[0m\u001b[0mscores\u001b[0m\u001b[1;33m.\u001b[0m\u001b[0mshape\u001b[0m\u001b[1;33m)\u001b[0m \u001b[1;33m==\u001b[0m \u001b[1;36m1\u001b[0m\u001b[1;33m:\u001b[0m\u001b[1;33m\u001b[0m\u001b[1;33m\u001b[0m\u001b[0m\n\u001b[0;32m    427\u001b[0m             \u001b[0mindices\u001b[0m \u001b[1;33m=\u001b[0m \u001b[1;33m(\u001b[0m\u001b[0mscores\u001b[0m \u001b[1;33m>\u001b[0m \u001b[1;36m0\u001b[0m\u001b[1;33m)\u001b[0m\u001b[1;33m.\u001b[0m\u001b[0mastype\u001b[0m\u001b[1;33m(\u001b[0m\u001b[0mint\u001b[0m\u001b[1;33m)\u001b[0m\u001b[1;33m\u001b[0m\u001b[1;33m\u001b[0m\u001b[0m\n",
      "\u001b[1;32mC:\\ProgramData\\Anaconda3\\lib\\site-packages\\sklearn\\linear_model\\_base.py\u001b[0m in \u001b[0;36mdecision_function\u001b[1;34m(self, X)\u001b[0m\n\u001b[0;32m    405\u001b[0m         \u001b[0mcheck_is_fitted\u001b[0m\u001b[1;33m(\u001b[0m\u001b[0mself\u001b[0m\u001b[1;33m)\u001b[0m\u001b[1;33m\u001b[0m\u001b[1;33m\u001b[0m\u001b[0m\n\u001b[0;32m    406\u001b[0m \u001b[1;33m\u001b[0m\u001b[0m\n\u001b[1;32m--> 407\u001b[1;33m         \u001b[0mX\u001b[0m \u001b[1;33m=\u001b[0m \u001b[0mself\u001b[0m\u001b[1;33m.\u001b[0m\u001b[0m_validate_data\u001b[0m\u001b[1;33m(\u001b[0m\u001b[0mX\u001b[0m\u001b[1;33m,\u001b[0m \u001b[0maccept_sparse\u001b[0m\u001b[1;33m=\u001b[0m\u001b[1;34m\"csr\"\u001b[0m\u001b[1;33m,\u001b[0m \u001b[0mreset\u001b[0m\u001b[1;33m=\u001b[0m\u001b[1;32mFalse\u001b[0m\u001b[1;33m)\u001b[0m\u001b[1;33m\u001b[0m\u001b[1;33m\u001b[0m\u001b[0m\n\u001b[0m\u001b[0;32m    408\u001b[0m         \u001b[0mscores\u001b[0m \u001b[1;33m=\u001b[0m \u001b[0msafe_sparse_dot\u001b[0m\u001b[1;33m(\u001b[0m\u001b[0mX\u001b[0m\u001b[1;33m,\u001b[0m \u001b[0mself\u001b[0m\u001b[1;33m.\u001b[0m\u001b[0mcoef_\u001b[0m\u001b[1;33m.\u001b[0m\u001b[0mT\u001b[0m\u001b[1;33m,\u001b[0m \u001b[0mdense_output\u001b[0m\u001b[1;33m=\u001b[0m\u001b[1;32mTrue\u001b[0m\u001b[1;33m)\u001b[0m \u001b[1;33m+\u001b[0m \u001b[0mself\u001b[0m\u001b[1;33m.\u001b[0m\u001b[0mintercept_\u001b[0m\u001b[1;33m\u001b[0m\u001b[1;33m\u001b[0m\u001b[0m\n\u001b[0;32m    409\u001b[0m         \u001b[1;32mreturn\u001b[0m \u001b[0mscores\u001b[0m\u001b[1;33m.\u001b[0m\u001b[0mravel\u001b[0m\u001b[1;33m(\u001b[0m\u001b[1;33m)\u001b[0m \u001b[1;32mif\u001b[0m \u001b[0mscores\u001b[0m\u001b[1;33m.\u001b[0m\u001b[0mshape\u001b[0m\u001b[1;33m[\u001b[0m\u001b[1;36m1\u001b[0m\u001b[1;33m]\u001b[0m \u001b[1;33m==\u001b[0m \u001b[1;36m1\u001b[0m \u001b[1;32melse\u001b[0m \u001b[0mscores\u001b[0m\u001b[1;33m\u001b[0m\u001b[1;33m\u001b[0m\u001b[0m\n",
      "\u001b[1;32mC:\\ProgramData\\Anaconda3\\lib\\site-packages\\sklearn\\base.py\u001b[0m in \u001b[0;36m_validate_data\u001b[1;34m(self, X, y, reset, validate_separately, **check_params)\u001b[0m\n\u001b[0;32m    583\u001b[0m \u001b[1;33m\u001b[0m\u001b[0m\n\u001b[0;32m    584\u001b[0m         \u001b[1;32mif\u001b[0m \u001b[1;32mnot\u001b[0m \u001b[0mno_val_X\u001b[0m \u001b[1;32mand\u001b[0m \u001b[0mcheck_params\u001b[0m\u001b[1;33m.\u001b[0m\u001b[0mget\u001b[0m\u001b[1;33m(\u001b[0m\u001b[1;34m\"ensure_2d\"\u001b[0m\u001b[1;33m,\u001b[0m \u001b[1;32mTrue\u001b[0m\u001b[1;33m)\u001b[0m\u001b[1;33m:\u001b[0m\u001b[1;33m\u001b[0m\u001b[1;33m\u001b[0m\u001b[0m\n\u001b[1;32m--> 585\u001b[1;33m             \u001b[0mself\u001b[0m\u001b[1;33m.\u001b[0m\u001b[0m_check_n_features\u001b[0m\u001b[1;33m(\u001b[0m\u001b[0mX\u001b[0m\u001b[1;33m,\u001b[0m \u001b[0mreset\u001b[0m\u001b[1;33m=\u001b[0m\u001b[0mreset\u001b[0m\u001b[1;33m)\u001b[0m\u001b[1;33m\u001b[0m\u001b[1;33m\u001b[0m\u001b[0m\n\u001b[0m\u001b[0;32m    586\u001b[0m \u001b[1;33m\u001b[0m\u001b[0m\n\u001b[0;32m    587\u001b[0m         \u001b[1;32mreturn\u001b[0m \u001b[0mout\u001b[0m\u001b[1;33m\u001b[0m\u001b[1;33m\u001b[0m\u001b[0m\n",
      "\u001b[1;32mC:\\ProgramData\\Anaconda3\\lib\\site-packages\\sklearn\\base.py\u001b[0m in \u001b[0;36m_check_n_features\u001b[1;34m(self, X, reset)\u001b[0m\n\u001b[0;32m    398\u001b[0m \u001b[1;33m\u001b[0m\u001b[0m\n\u001b[0;32m    399\u001b[0m         \u001b[1;32mif\u001b[0m \u001b[0mn_features\u001b[0m \u001b[1;33m!=\u001b[0m \u001b[0mself\u001b[0m\u001b[1;33m.\u001b[0m\u001b[0mn_features_in_\u001b[0m\u001b[1;33m:\u001b[0m\u001b[1;33m\u001b[0m\u001b[1;33m\u001b[0m\u001b[0m\n\u001b[1;32m--> 400\u001b[1;33m             raise ValueError(\n\u001b[0m\u001b[0;32m    401\u001b[0m                 \u001b[1;34mf\"X has {n_features} features, but {self.__class__.__name__} \"\u001b[0m\u001b[1;33m\u001b[0m\u001b[1;33m\u001b[0m\u001b[0m\n\u001b[0;32m    402\u001b[0m                 \u001b[1;34mf\"is expecting {self.n_features_in_} features as input.\"\u001b[0m\u001b[1;33m\u001b[0m\u001b[1;33m\u001b[0m\u001b[0m\n",
      "\u001b[1;31mValueError\u001b[0m: X has 2 features, but LogisticRegression is expecting 80 features as input."
     ]
    }
   ],
   "source": [
    "X_combined_std = np.vstack((X_train_std, X_test_std))\n",
    "y_combined = np.hstack((y_train, y_test))\n",
    "plot_decision_regions(X_combined_std,y_combined, classifier=lr, test_idx=range(0,360))\n",
    "plt.xlabel('x')\n",
    "plt.ylabel('y')\n",
    "plt.legend(loc='upper left')\n",
    "plt.tight_layout()\n",
    "# plt.savefig('images/03_06.png', dpi=300)\n",
    "plt.show()"
   ]
  },
  {
   "cell_type": "code",
   "execution_count": 35,
   "id": "1202e43c",
   "metadata": {},
   "outputs": [
    {
     "data": {
      "text/plain": [
       "array([[9.99999921e-01, 3.98536962e-09, 2.08535937e-17, 7.20475795e-28,\n",
       "        8.39845471e-25, 1.66563457e-31, 1.59200119e-18, 1.31215339e-17,\n",
       "        7.51539378e-08, 8.34554311e-11, 1.90675107e-11, 1.40695413e-23],\n",
       "       [9.86350224e-43, 1.02439176e-10, 3.33873600e-27, 6.87983732e-22,\n",
       "        3.51912291e-05, 2.90961903e-19, 3.14151803e-07, 3.23533724e-03,\n",
       "        1.44679677e-05, 9.96673360e-01, 1.07581417e-05, 3.05715642e-05],\n",
       "       [9.99991634e-01, 6.61353381e-06, 1.59101071e-21, 1.61639193e-37,\n",
       "        5.56153036e-39, 1.21224206e-32, 1.07815271e-11, 2.97308387e-18,\n",
       "        1.72369355e-10, 1.71085119e-08, 1.73477741e-06, 7.27979996e-25]])"
      ]
     },
     "execution_count": 35,
     "metadata": {},
     "output_type": "execute_result"
    }
   ],
   "source": [
    "lr.predict_proba(X_test_std[:3, :])"
   ]
  },
  {
   "cell_type": "code",
   "execution_count": 36,
   "id": "7a6b741e",
   "metadata": {},
   "outputs": [
    {
     "data": {
      "text/plain": [
       "array([0], dtype=int64)"
      ]
     },
     "execution_count": 36,
     "metadata": {},
     "output_type": "execute_result"
    }
   ],
   "source": [
    "lr.predict(X_test_std[0, :].reshape(1, -1))"
   ]
  },
  {
   "cell_type": "code",
   "execution_count": 37,
   "id": "0a12de27",
   "metadata": {},
   "outputs": [
    {
     "data": {
      "text/plain": [
       "array([ 0, 11,  0, ...,  0,  0,  0], dtype=int64)"
      ]
     },
     "execution_count": 37,
     "metadata": {},
     "output_type": "execute_result"
    }
   ],
   "source": [
    "lr.predict(X_test_std)"
   ]
  },
  {
   "cell_type": "code",
   "execution_count": 38,
   "id": "217fe137",
   "metadata": {},
   "outputs": [
    {
     "data": {
      "text/plain": [
       "7026      0\n",
       "14803    11\n",
       "5206      0\n",
       "8151      0\n",
       "5194      0\n",
       "         ..\n",
       "20721     0\n",
       "3087      0\n",
       "17092     0\n",
       "11399     0\n",
       "62        0\n",
       "Name: Label, Length: 6794, dtype: int64"
      ]
     },
     "execution_count": 38,
     "metadata": {},
     "output_type": "execute_result"
    }
   ],
   "source": [
    "y_test"
   ]
  },
  {
   "cell_type": "code",
   "execution_count": 39,
   "id": "fe36f20a",
   "metadata": {},
   "outputs": [
    {
     "data": {
      "text/plain": [
       "array([  2.77468461, -35.25517104, -60.9076722 , -43.28533548,\n",
       "       -55.16772428, -56.78126029, -33.83345185, -42.97744361,\n",
       "       -27.46973418, -24.14084763, -26.03287557, -48.68269457])"
      ]
     },
     "execution_count": 39,
     "metadata": {},
     "output_type": "execute_result"
    }
   ],
   "source": [
    "lr.intercept_"
   ]
  },
  {
   "cell_type": "code",
   "execution_count": 40,
   "id": "7a8b7e2c",
   "metadata": {},
   "outputs": [
    {
     "data": {
      "text/plain": [
       "array([[-1.41178112e-01, -5.30328469e-01,  3.04197912e-01,\n",
       "         4.15392823e-01, -2.07858664e-01,  8.92647682e-01,\n",
       "         1.56882776e-01,  5.79998363e-01,  8.74249080e-02,\n",
       "         1.29683954e-01, -2.04074410e-01,  2.61685995e-01,\n",
       "        -7.91894912e-02,  2.85463459e-01,  2.74657659e-01,\n",
       "        -3.45177249e-01,  1.09981109e+00,  4.99007162e-01,\n",
       "         2.94734796e-01,  1.27286570e-01,  1.98627232e-01,\n",
       "         3.83123858e-02, -1.12963665e-01,  6.59042775e-03,\n",
       "        -1.68574284e-01, -3.17416784e-01,  5.35534773e-01,\n",
       "         1.87323015e-01,  6.88610030e-01,  5.09414122e-01,\n",
       "        -1.68224870e-01,  2.48548626e-01,  0.00000000e+00,\n",
       "         1.92256084e-02,  0.00000000e+00, -5.71552129e-02,\n",
       "        -1.10479237e-01,  1.10007031e+00,  5.59137864e-01,\n",
       "         7.29201214e-01,  2.78073682e-01,  2.72500592e-01,\n",
       "         1.76259789e-01, -1.71410033e+00,  2.49375959e-01,\n",
       "         2.48548626e-01,  1.72382179e-02, -2.24144284e+00,\n",
       "        -3.02290936e-01, -7.75221768e-01,  1.92256084e-02,\n",
       "         1.72382179e-02,  3.61602904e-01,  1.02626788e-01,\n",
       "         1.29683954e-01,  2.85463459e-01, -5.71552129e-02,\n",
       "         0.00000000e+00,  0.00000000e+00,  0.00000000e+00,\n",
       "         0.00000000e+00,  0.00000000e+00,  0.00000000e+00,\n",
       "         4.15392823e-01,  8.92647682e-01, -2.07858664e-01,\n",
       "         1.56882776e-01,  1.16528813e-01,  1.53022286e+00,\n",
       "         9.67815988e-01,  1.33041259e+00,  5.33389380e-02,\n",
       "         2.21595165e-01,  1.21073477e-01, -4.83801580e-02,\n",
       "        -4.86900750e-01, -2.51387947e-01, -5.06289356e-01,\n",
       "        -4.59323194e-01, -2.57979549e+01],\n",
       "       [ 4.33988074e-02,  7.69150352e-01, -2.60575679e+00,\n",
       "        -2.09100024e+00,  4.71112787e-01, -3.38588548e+00,\n",
       "        -1.29202622e+00,  1.32183232e+00, -6.78531318e-01,\n",
       "        -1.40524440e+00,  3.93016060e+00, -1.66976164e+00,\n",
       "         5.57875240e-01,  3.24292916e-01, -3.34064066e-02,\n",
       "         2.25201868e-01, -8.55134081e+00, -4.06036421e+00,\n",
       "        -4.20379095e+00, -3.55365101e+00, -9.33514357e-01,\n",
       "        -8.66880251e-01,  4.44091186e-01, -3.71571955e+00,\n",
       "        -2.03240489e+00,  3.07321585e+00,  1.90870407e-01,\n",
       "        -2.20442116e-02, -7.99946954e-01, -5.48133888e-01,\n",
       "         5.01439342e-01, -4.08187786e-01,  0.00000000e+00,\n",
       "        -5.03058094e-02,  0.00000000e+00,  1.83025026e+00,\n",
       "         1.51326215e+00, -1.01280857e+01,  1.98354649e+00,\n",
       "        -7.90807363e-01, -4.25239520e+00, -8.94197800e-01,\n",
       "        -2.53262940e+00, -1.97567165e+00, -1.13656995e-01,\n",
       "        -4.08187786e-01, -9.80951434e-03,  7.24236208e+00,\n",
       "         9.76054067e-01,  2.78019947e+00, -5.03058094e-02,\n",
       "        -9.80951434e-03, -1.48687127e+00, -1.52181939e-01,\n",
       "        -1.40524440e+00,  3.24292916e-01,  1.83025026e+00,\n",
       "         0.00000000e+00,  0.00000000e+00,  0.00000000e+00,\n",
       "         0.00000000e+00,  0.00000000e+00,  0.00000000e+00,\n",
       "        -2.09100024e+00, -3.38588548e+00,  4.71112787e-01,\n",
       "        -1.29202622e+00, -4.35186425e-01, -3.73168866e+00,\n",
       "        -3.04276701e+00, -5.44034851e+00, -6.57707819e-01,\n",
       "        -6.61499540e-02, -4.13869425e-01, -7.32107166e-01,\n",
       "        -4.33500863e-01, -2.35092311e-01, -4.51533193e-01,\n",
       "        -4.04508280e-01, -2.94896040e-01],\n",
       "       [ 1.16694373e+01, -3.81482115e+00, -2.08762906e+00,\n",
       "         1.87122345e+00, -2.61535105e+00, -3.44273265e+00,\n",
       "        -2.74447239e+00, -9.20014437e+00,  8.73893881e-01,\n",
       "        -5.18451269e+00, -9.27751545e+00,  6.48355826e-01,\n",
       "        -9.52745791e-03, -2.06033672e+00, -1.62255264e+00,\n",
       "         1.61603357e-01, -3.22939666e+00,  5.54403863e+00,\n",
       "         5.45529504e+00, -1.92645213e+00, -1.17035660e+00,\n",
       "        -2.51794905e+00, -2.06450094e+00, -1.10649725e+00,\n",
       "        -2.34835245e+00, -1.18626043e+00, -7.05967478e-01,\n",
       "         5.96076441e-02, -7.60794479e-01, -1.13641112e+00,\n",
       "         1.77889505e-01, -1.21557389e+00,  0.00000000e+00,\n",
       "         1.34271392e-01,  0.00000000e+00, -1.78318596e+00,\n",
       "        -4.39755883e+00, -3.30679172e+00, -3.13273241e+00,\n",
       "         1.37259076e+00,  1.78843926e-01,  6.14432720e+00,\n",
       "         2.28608640e+00, -6.44458124e-01, -1.27809133e+00,\n",
       "        -1.21557389e+00,  2.36914631e-02,  3.35713017e-01,\n",
       "         1.20600938e+01, -3.59374206e+00,  1.34271392e-01,\n",
       "         2.36914631e-02,  1.29683229e+00,  6.08001830e+00,\n",
       "        -5.18451269e+00, -2.06033672e+00, -1.78318596e+00,\n",
       "         0.00000000e+00,  0.00000000e+00,  0.00000000e+00,\n",
       "         0.00000000e+00,  0.00000000e+00,  0.00000000e+00,\n",
       "         1.87122345e+00, -3.44273265e+00, -2.61535105e+00,\n",
       "        -2.74447239e+00, -1.02789737e+01, -1.73943501e+00,\n",
       "         1.21733016e+01, -9.79994183e+00,  5.20834893e-02,\n",
       "        -1.11845910e+00, -4.11870666e-01,  7.54798073e-01,\n",
       "        -7.51112204e-01,  6.68235276e-02, -7.36943373e-01,\n",
       "        -7.60028474e-01,  7.43369082e+00],\n",
       "       [-1.28261182e-01, -2.43055806e+00, -1.24353736e+00,\n",
       "        -2.63842808e+00, -1.76529762e+00, -2.37959641e+00,\n",
       "         3.83970940e-01,  3.00456254e-01, -1.81323050e+00,\n",
       "        -2.08874014e+00,  4.62828843e+00,  1.81940271e+00,\n",
       "        -4.69325562e+00,  9.35902620e-01,  8.85671508e+00,\n",
       "        -5.76570359e-02, -4.94052560e+00,  2.46416706e+00,\n",
       "        -3.13237678e+00, -6.31702019e+00, -4.87166208e-02,\n",
       "        -4.40561581e+00, -3.20804739e-01, -3.18448794e+00,\n",
       "        -7.32380050e-01,  3.01751797e+00,  5.01981099e+00,\n",
       "         2.89689388e+00,  1.59172198e+00,  7.16658883e-01,\n",
       "        -3.13412276e+00, -1.34758426e+00,  0.00000000e+00,\n",
       "        -1.03765776e-01,  0.00000000e+00, -1.74517777e+00,\n",
       "        -1.43718778e+00, -5.26602020e+00, -2.34000528e+00,\n",
       "        -5.33324332e+00,  1.09309851e+00, -1.28972197e-01,\n",
       "         3.79883018e+00, -1.24062075e+01, -6.99284202e-01,\n",
       "        -1.34758426e+00, -6.82009164e-03,  4.50212340e+00,\n",
       "         1.43664262e+00,  4.85739333e-01, -1.03765776e-01,\n",
       "        -6.82009164e-03, -1.00441610e+01, -7.63695940e-01,\n",
       "        -2.08874014e+00,  9.35902620e-01, -1.74517777e+00,\n",
       "         0.00000000e+00,  0.00000000e+00,  0.00000000e+00,\n",
       "         0.00000000e+00,  0.00000000e+00,  0.00000000e+00,\n",
       "        -2.63842808e+00, -2.37959641e+00, -1.76529762e+00,\n",
       "         3.83970940e-01, -9.83421779e+00, -6.39552233e+00,\n",
       "        -6.20988368e+00,  1.05709718e+01,  2.02258213e-01,\n",
       "        -2.59913944e-01, -2.95673271e-02,  3.47388854e-01,\n",
       "         1.93100878e+00,  1.66398564e-02,  1.85993436e+00,\n",
       "         1.98468382e+00,  6.88479789e-01],\n",
       "       [-5.40050535e-01, -2.18204221e+01, -3.63426168e+00,\n",
       "        -1.70042663e+00, -4.40430750e+00, -3.16169064e+00,\n",
       "        -4.19660137e+00, -1.57279724e+00, -5.26084441e+00,\n",
       "         1.91096327e+00,  5.98270454e+00,  1.01651440e+01,\n",
       "        -7.49038218e+00, -2.39087910e+00,  4.59859674e+00,\n",
       "        -1.63080344e+00,  2.05398114e+00,  7.30535626e-01,\n",
       "         7.56543901e+00, -2.45121257e+00, -6.00452290e+00,\n",
       "        -1.28562614e+00, -1.11545222e+01,  2.71880581e+00,\n",
       "        -1.55583495e+00, -1.27005082e+01, -1.40709723e+00,\n",
       "         2.22398715e+00, -2.29998422e+00,  2.76224849e+00,\n",
       "         4.98141837e+00, -8.76428984e+00,  0.00000000e+00,\n",
       "         3.04843360e-01,  0.00000000e+00,  5.91199956e+00,\n",
       "         2.06491896e+00, -1.58150678e+00, -5.03492538e-01,\n",
       "        -1.60569482e+01, -8.69971802e+00,  9.16262239e+00,\n",
       "        -8.27679883e+00, -5.72926033e-01,  1.43111387e+00,\n",
       "        -8.76428984e+00,  3.14840019e-02, -6.74444078e+00,\n",
       "         1.19544158e+00, -2.10598128e+01,  3.04843360e-01,\n",
       "         3.14840019e-02, -1.48644158e+00,  3.10140248e+00,\n",
       "         1.91096327e+00, -2.39087910e+00,  5.91199956e+00,\n",
       "         0.00000000e+00,  0.00000000e+00,  0.00000000e+00,\n",
       "         0.00000000e+00,  0.00000000e+00,  0.00000000e+00,\n",
       "        -1.70042663e+00, -3.16169064e+00, -4.40430750e+00,\n",
       "        -4.19660137e+00, -1.80256973e+00, -2.52879295e+00,\n",
       "        -9.11950135e+00,  1.75150248e+00, -1.01964094e+01,\n",
       "         3.44242576e-01, -5.28072829e+00, -1.18691564e+01,\n",
       "         2.71149758e-01,  1.35458492e-01,  4.98015011e-01,\n",
       "         2.26041262e-01,  5.96314202e+00],\n",
       "       [-1.06167117e+00, -3.72070339e+00,  2.08998991e+00,\n",
       "        -8.05298965e-01, -1.69091550e+00,  5.89520260e-01,\n",
       "        -4.30688382e-01, -2.10872043e+00,  1.59894652e+00,\n",
       "         1.41234619e+00, -8.85661427e-01, -9.91712944e-01,\n",
       "        -1.69046980e+00, -1.04786274e+00, -7.63737737e-01,\n",
       "         3.39835434e-01, -1.07638993e+00,  5.83898713e-01,\n",
       "        -5.90647249e-02, -6.61251204e-01, -7.25576993e-01,\n",
       "         2.37561077e+00, -1.60670199e+00, -5.73183341e-01,\n",
       "        -4.94711727e-01, -1.51331124e+00, -4.65499220e+00,\n",
       "         2.95357902e+00,  4.69132360e+00, -1.36906670e+00,\n",
       "         5.86974086e-01,  2.42781455e+00,  0.00000000e+00,\n",
       "        -1.52729025e-01,  0.00000000e+00,  1.92465015e-01,\n",
       "        -1.67226908e+00, -6.56270309e-01,  4.87218815e-02,\n",
       "        -1.32409986e+00, -1.35982947e+00,  1.91909339e+00,\n",
       "         2.41613097e-01, -1.11736817e+00, -2.34510698e-01,\n",
       "         2.42781455e+00,  2.63696520e-02,  3.16666519e+00,\n",
       "        -6.13474549e-01,  5.93061947e+00, -1.52729025e-01,\n",
       "         2.63696520e-02, -6.06306200e+00,  2.09721982e+00,\n",
       "         1.41234619e+00, -1.04786274e+00,  1.92465015e-01,\n",
       "         0.00000000e+00,  0.00000000e+00,  0.00000000e+00,\n",
       "         0.00000000e+00,  0.00000000e+00,  0.00000000e+00,\n",
       "        -8.05298965e-01,  5.89520260e-01, -1.69091550e+00,\n",
       "        -4.30688382e-01, -1.14870411e+00,  1.15340704e+00,\n",
       "        -1.59606587e+00,  6.18136001e+00,  3.17281656e+00,\n",
       "        -1.71871606e+00,  3.22491382e-01, -9.68082329e-01,\n",
       "        -9.76046935e-01, -1.67790779e-01, -2.31868213e-01,\n",
       "        -1.93534536e+00,  4.15354028e+00],\n",
       "       [ 2.18196092e-02, -1.11140652e+01, -4.10877603e+00,\n",
       "         6.14870515e-01, -4.63762671e+00, -5.41021094e+00,\n",
       "        -1.08956225e+00, -2.87683601e+00, -6.34683427e-01,\n",
       "         1.49555850e+00,  3.90297052e-01, -4.24855174e+00,\n",
       "        -6.69082195e+00, -1.28899912e+00, -6.50919740e-01,\n",
       "        -1.95159879e-01, -6.49953795e+00, -1.17917744e+00,\n",
       "        -1.83770792e+00, -1.30615414e+00, -3.76915478e-01,\n",
       "         8.37483632e-02, -2.79299641e-01, -2.24019247e+00,\n",
       "         2.95957525e+00,  3.93771874e+00, -2.83119632e+00,\n",
       "         1.63855634e+00,  3.83211744e+00, -2.51082405e-01,\n",
       "         6.28337498e-01,  6.08566425e-01,  0.00000000e+00,\n",
       "        -3.70649245e-01,  0.00000000e+00,  2.96587551e+00,\n",
       "        -3.95082630e+00, -5.47307442e+00, -1.35944777e+01,\n",
       "        -6.60422681e+00, -1.47878206e-01,  4.26380502e-01,\n",
       "         4.64719357e+00, -2.72504307e+00, -6.74906507e-02,\n",
       "         6.08566425e-01, -1.46235664e-02,  3.12040187e+00,\n",
       "        -4.99657806e-01,  1.54552302e+00, -3.70649245e-01,\n",
       "        -1.46235664e-02,  9.33200281e-03,  1.81491546e+00,\n",
       "         1.49555850e+00, -1.28899912e+00,  2.96587551e+00,\n",
       "         0.00000000e+00,  0.00000000e+00,  0.00000000e+00,\n",
       "         0.00000000e+00,  0.00000000e+00,  0.00000000e+00,\n",
       "         6.14870515e-01, -5.41021094e+00, -4.63762671e+00,\n",
       "        -1.08956225e+00, -4.07155734e-01, -1.13555717e+00,\n",
       "         2.55562512e+00,  1.26539756e+00,  1.07794427e-01,\n",
       "         5.58256415e-01, -7.88603220e-01,  1.69440805e-01,\n",
       "        -1.69545543e+00,  6.73245191e-01, -4.39714753e-01,\n",
       "        -9.44204883e-01,  1.33543733e+00],\n",
       "       [-1.94337324e-01, -4.48618440e+00,  6.92175833e-01,\n",
       "        -1.93846313e+00,  3.99172308e+00, -5.95481616e+00,\n",
       "        -5.90450809e+00, -6.59317499e+00, -1.49638680e+00,\n",
       "        -2.22573340e+00, -3.10570082e+00, -3.86322545e+00,\n",
       "        -4.15249451e+00, -1.55000836e+00, -1.69819541e+00,\n",
       "        -4.92783187e-01, -9.98082933e-01, -1.23663557e+00,\n",
       "        -5.10046323e-02,  6.94475268e-01, -4.38682990e-01,\n",
       "        -3.03925741e+00, -1.47184985e-01,  2.62454147e+00,\n",
       "         1.74781124e+00, -1.34285064e+00,  1.97418980e+00,\n",
       "        -7.14665294e-01,  1.76374208e+00,  2.47037356e+00,\n",
       "        -3.28071600e-01,  1.38934337e+00,  0.00000000e+00,\n",
       "        -3.98525494e-02,  0.00000000e+00, -1.43727162e-01,\n",
       "         7.93189806e+00,  7.40292341e-01, -1.27651823e+01,\n",
       "        -2.38271423e+00, -3.86062854e+00, -2.49542980e+00,\n",
       "        -2.37935590e+00, -3.59653653e-01, -2.00917603e-01,\n",
       "         1.38934337e+00,  1.68739968e-03,  6.42814852e-01,\n",
       "        -5.71326418e-01, -1.30902657e+00, -3.98525494e-02,\n",
       "         1.68739968e-03, -1.17131992e+00, -2.66764686e+00,\n",
       "        -2.22573340e+00, -1.55000836e+00, -1.43727162e-01,\n",
       "         0.00000000e+00,  0.00000000e+00,  0.00000000e+00,\n",
       "         0.00000000e+00,  0.00000000e+00,  0.00000000e+00,\n",
       "        -1.93846313e+00, -5.95481616e+00,  3.99172308e+00,\n",
       "        -5.90450809e+00,  4.05244321e-01, -4.09943490e+00,\n",
       "         2.56026229e+00, -1.49356903e-01, -1.43761450e+00,\n",
       "        -4.22315391e-01, -9.53251914e-01, -1.42207939e+00,\n",
       "        -3.51355558e+00, -1.57241245e+00, -3.65693043e+00,\n",
       "        -3.33317327e+00,  3.95660298e+00],\n",
       "       [-5.01892448e-01,  3.83650629e-01, -3.08880596e+00,\n",
       "        -1.51662867e+00, -1.13443720e+00, -4.43477220e-01,\n",
       "         8.58060282e-03, -1.33706624e+00,  1.54615152e-02,\n",
       "        -1.68105022e+00, -1.83649312e+00, -2.85712225e-01,\n",
       "         1.99880508e-01,  6.41941676e-01, -5.78688486e-01,\n",
       "        -1.62567899e-02, -5.19254756e-02, -7.59186860e+00,\n",
       "        -7.07986569e+00, -3.62769747e+00, -2.88809977e-01,\n",
       "        -2.75928894e+00, -3.13360061e+00, -7.64466776e+00,\n",
       "        -3.43207933e+00,  2.66347814e+00,  1.27968370e+00,\n",
       "         3.36871201e+00,  1.95274845e+00,  2.88455609e+00,\n",
       "         2.96133611e+00, -2.25302012e-01,  0.00000000e+00,\n",
       "         1.31718209e-03,  0.00000000e+00, -2.01410611e+00,\n",
       "        -1.41227046e+00, -8.28086218e-02,  2.22070690e-01,\n",
       "         4.10582829e-02, -3.10362064e-01, -1.06084367e-01,\n",
       "        -3.60941417e-01, -6.12443534e-01, -3.10803748e-01,\n",
       "        -2.25302012e-01,  1.77373246e-03,  3.04797355e+00,\n",
       "        -2.19381144e+00, -3.08990864e+00,  1.31718209e-03,\n",
       "         1.77373246e-03,  1.75275368e+00, -9.42773227e-02,\n",
       "        -1.68105022e+00,  6.41941676e-01, -2.01410611e+00,\n",
       "         0.00000000e+00,  0.00000000e+00,  0.00000000e+00,\n",
       "         0.00000000e+00,  0.00000000e+00,  0.00000000e+00,\n",
       "        -1.51662867e+00, -4.43477220e-01, -1.13443720e+00,\n",
       "         8.58060282e-03, -1.76643857e+00, -6.99196187e-01,\n",
       "        -7.44072021e-01,  1.17149054e+00, -2.09054831e-01,\n",
       "        -6.39131706e-02, -1.33671296e-01, -2.05018864e-01,\n",
       "         2.48837502e+00, -2.24140928e-03,  2.41236204e+00,\n",
       "         2.51643398e+00,  4.79472030e+00],\n",
       "       [-6.05910573e-01, -2.52327358e+00,  3.58558176e-01,\n",
       "        -1.02075469e+00,  1.63477708e+00, -1.44341513e+00,\n",
       "        -3.93323688e+00,  1.56150686e+00, -2.81260402e-01,\n",
       "         1.18785053e+00, -5.96462788e-01,  2.78941422e+00,\n",
       "        -6.60463953e-01, -1.42989572e+00,  1.08326194e-01,\n",
       "        -8.21361335e-03, -1.43875284e+00, -1.77280298e-01,\n",
       "        -7.57189723e-03, -5.46569404e-01, -2.44542230e-01,\n",
       "        -9.99514270e-02,  7.18797412e-03,  4.47228183e-02,\n",
       "        -5.37476088e-01, -6.13706930e-02,  5.91215285e-01,\n",
       "        -1.68843970e-02,  1.08125903e-01, -5.90642041e-01,\n",
       "        -1.73300851e-02, -4.26148147e-01,  0.00000000e+00,\n",
       "        -3.39429722e-02,  0.00000000e+00,  9.13257254e-01,\n",
       "         3.98405376e+00, -8.32482061e-01, -5.57785438e+00,\n",
       "        -5.64570510e-01,  7.40711623e-01, -1.01230167e+00,\n",
       "        -9.26610506e-01, -1.50213544e+00, -7.48275036e-02,\n",
       "        -4.26148147e-01,  2.16160672e-03, -4.74779899e-02,\n",
       "         1.97102009e-01,  2.30302008e+00, -3.39429722e-02,\n",
       "         2.16160672e-03, -6.36201525e-01, -1.50074183e+00,\n",
       "         1.18785053e+00, -1.42989572e+00,  9.13257254e-01,\n",
       "         0.00000000e+00,  0.00000000e+00,  0.00000000e+00,\n",
       "         0.00000000e+00,  0.00000000e+00,  0.00000000e+00,\n",
       "        -1.02075469e+00, -1.44341513e+00,  1.63477708e+00,\n",
       "        -3.93323688e+00, -1.53957239e+00, -9.72946999e+00,\n",
       "         1.86405059e+00,  1.56246453e+00, -4.46009340e-01,\n",
       "        -4.22712992e-01, -5.26846228e-01, -3.26651130e-01,\n",
       "        -1.13735983e+00, -1.05838414e+00, -1.20495342e+00,\n",
       "        -8.32364850e-01,  2.97098636e+00],\n",
       "       [-5.26547247e-01, -3.42354507e+00, -1.51043118e+00,\n",
       "         3.38033906e-01, -8.81088480e-01,  1.90010652e-01,\n",
       "        -6.95422226e-01, -8.56194366e-01, -2.64085327e-01,\n",
       "        -7.23293252e-01, -7.78169927e-01, -7.60820642e-01,\n",
       "        -2.09500867e+00, -8.56915989e-01, -8.37016924e-01,\n",
       "        -2.99533907e-01, -1.15143379e-01,  2.33259071e+00,\n",
       "         1.37741989e+00, -1.97589068e+00, -1.47527725e+00,\n",
       "        -1.49560964e+00,  2.76786531e+00,  2.88210423e+00,\n",
       "        -1.94775339e+00, -2.11845869e+00, -2.29332243e-02,\n",
       "        -4.08754353e-02,  6.20912649e-03,  1.60225198e-02,\n",
       "        -2.66269096e-02, -8.45494408e-01,  0.00000000e+00,\n",
       "         1.69348115e-03,  0.00000000e+00,  1.08449943e+00,\n",
       "        -1.58241640e-01, -1.40422696e-01,  2.13117642e-01,\n",
       "        -6.96360173e-01, -7.94036822e-01, -8.11796619e-01,\n",
       "        -8.04765343e-01,  2.63704593e-02, -1.07927893e-01,\n",
       "        -8.45494408e-01,  6.96524149e-03,  6.38227914e-02,\n",
       "        -7.42397927e-01,  2.12692294e+00,  1.69348115e-03,\n",
       "         6.96524149e-03, -5.94286172e-01, -9.09519745e-01,\n",
       "        -7.23293252e-01, -8.56915989e-01,  1.08449943e+00,\n",
       "         0.00000000e+00,  0.00000000e+00,  0.00000000e+00,\n",
       "         0.00000000e+00,  0.00000000e+00,  0.00000000e+00,\n",
       "         3.38033906e-01,  1.90010652e-01, -8.81088480e-01,\n",
       "        -6.95422226e-01,  4.24214627e-01,  8.84050322e-01,\n",
       "        -8.24210441e-01,  5.83690485e-01, -3.27481446e-02,\n",
       "        -1.37923204e-01, -1.34431580e-01,  3.71736682e-02,\n",
       "        -3.16789941e+00, -5.80184490e-02, -3.08176240e+00,\n",
       "        -3.19439664e+00,  1.87770797e+00],\n",
       "       [ 3.08349038e-01, -3.34523828e-02, -3.65063423e-02,\n",
       "        -3.17914415e-02, -3.76902684e-02, -6.02313780e-02,\n",
       "        -3.50140257e-03, -2.86387631e-02, -2.34754663e-03,\n",
       "        -1.82784982e-02, -1.65239009e-02, -1.74874836e-02,\n",
       "        -7.17318374e-03, -9.01312753e-03, -9.73836014e-03,\n",
       "        -1.05837698e-04, -2.69225803e-02, -5.28068442e-02,\n",
       "        -5.64459271e-02, -3.39574161e-02,  8.87349784e-04,\n",
       "        -3.48695915e-02, -4.02993823e-02, -5.82622948e-02,\n",
       "        -3.38973252e-02,  1.46624397e-03, -1.60416633e-02,\n",
       "        -7.32585419e-04, -4.02526135e-03, -4.02379519e-03,\n",
       "         9.22317680e-04,  3.49362136e-05,  0.00000000e+00,\n",
       "         4.82687581e-05,  0.00000000e+00, -3.79313210e-02,\n",
       "        -4.76173668e-02, -1.52739901e-02, -1.07211500e-01,\n",
       "        -5.31113224e-03, -1.69489823e-02, -1.37533008e-02,\n",
       "        -1.17693145e-02, -1.75071099e-03,  2.76002737e-04,\n",
       "         3.49362136e-05, -3.67471145e-05,  1.65321184e-01,\n",
       "        -1.62624058e-01, -2.53300356e-01,  4.82687581e-05,\n",
       "        -3.67471145e-05, -2.61841803e-01, -1.33227620e-02,\n",
       "        -1.82784982e-02, -9.01312753e-03, -3.79313210e-02,\n",
       "         0.00000000e+00,  0.00000000e+00,  0.00000000e+00,\n",
       "         0.00000000e+00,  0.00000000e+00,  0.00000000e+00,\n",
       "        -3.17914415e-02, -6.02313780e-02, -3.76902684e-02,\n",
       "        -3.50140257e-03,  2.01716255e-01,  5.85393887e-01,\n",
       "        -4.38946119e-02, -2.00398831e-02, -6.63000478e-04,\n",
       "        -1.14473480e-03, -1.43075696e-03, -3.41917933e-04,\n",
       "        -1.33889975e-03,  9.54650880e-04, -1.17352965e-03,\n",
       "        -1.47910790e-03,  9.80615907e+00]])"
      ]
     },
     "execution_count": 40,
     "metadata": {},
     "output_type": "execute_result"
    }
   ],
   "source": [
    "lr.coef_"
   ]
  },
  {
   "cell_type": "code",
   "execution_count": 41,
   "id": "a3474cc2",
   "metadata": {},
   "outputs": [
    {
     "data": {
      "text/plain": [
       "array([2, 7, 2, ..., 2, 2, 2], dtype=int64)"
      ]
     },
     "execution_count": 41,
     "metadata": {},
     "output_type": "execute_result"
    }
   ],
   "source": [
    "lr.predict(X_test)"
   ]
  },
  {
   "cell_type": "code",
   "execution_count": 42,
   "id": "ec818e4b",
   "metadata": {},
   "outputs": [
    {
     "data": {
      "text/plain": [
       "array([[ 623,    0, 4054,  130,   15,  327,    0,  157,    5,    0,    0,\n",
       "         130],\n",
       "       [   0,    0,    5,    0,    0,    0,    0,    0,    0,    0,    0,\n",
       "           0],\n",
       "       [   0,    0,  172,    0,    0,   56,    0,    0,    0,    0,    0,\n",
       "          74],\n",
       "       [   8,    0,    0,    0,    0,    0,    0,    4,    0,    0,    0,\n",
       "          13],\n",
       "       [ 136,    0,  184,    0,    5,   13,    0,    2,    0,    0,    0,\n",
       "         238],\n",
       "       [   2,    0,    1,    0,    0,    8,    0,    0,    0,    0,    0,\n",
       "           0],\n",
       "       [   3,    0,    3,    3,    0,    4,    0,    0,    0,    0,    0,\n",
       "           0],\n",
       "       [   0,    0,    6,    0,    0,    0,    0,    9,    0,    0,    0,\n",
       "           0],\n",
       "       [   6,    0,  375,    2,    0,    0,    0,    0,    0,    0,    0,\n",
       "           0],\n",
       "       [   0,    0,    7,    0,    0,    0,    0,    8,    0,    0,    0,\n",
       "           0],\n",
       "       [   1,    0,    0,    0,    0,    2,    0,    2,    0,    0,    0,\n",
       "           0],\n",
       "       [   0,    0,    0,    0,    0,    1,    0,    0,    0,    0,    0,\n",
       "           0]], dtype=int64)"
      ]
     },
     "execution_count": 42,
     "metadata": {},
     "output_type": "execute_result"
    }
   ],
   "source": [
    "from sklearn.metrics import classification_report, confusion_matrix\n",
    "confusion_matrix(y_test, lr.predict(X_test))"
   ]
  },
  {
   "cell_type": "code",
   "execution_count": null,
   "id": "e866ff49",
   "metadata": {},
   "outputs": [],
   "source": []
  }
 ],
 "metadata": {
  "kernelspec": {
   "display_name": "Python 3 (ipykernel)",
   "language": "python",
   "name": "python3"
  },
  "language_info": {
   "codemirror_mode": {
    "name": "ipython",
    "version": 3
   },
   "file_extension": ".py",
   "mimetype": "text/x-python",
   "name": "python",
   "nbconvert_exporter": "python",
   "pygments_lexer": "ipython3",
   "version": "3.9.13"
  }
 },
 "nbformat": 4,
 "nbformat_minor": 5
}
