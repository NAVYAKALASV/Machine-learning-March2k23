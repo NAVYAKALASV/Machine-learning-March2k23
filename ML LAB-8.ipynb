{
 "cells": [
  {
   "cell_type": "code",
   "execution_count": 1,
   "id": "c4e28097",
   "metadata": {},
   "outputs": [],
   "source": [
    "#20BCE1858 S.V.NAVYA KALA- NAIVE BAYES IMPLEMENTATION WITHOUT SKLEARN\n",
    "import numpy as np \n",
    "import pandas as pd \n",
    "import matplotlib.pyplot as plt \n",
    "import math\n",
    "m1 = pd.read_csv(\"train.csv\")\n",
    "m2 = pd.read_csv(\"test.csv\")\n",
    "import warnings\n",
    "warnings.filterwarnings('ignore')"
   ]
  },
  {
   "cell_type": "code",
   "execution_count": 2,
   "id": "882519b1",
   "metadata": {},
   "outputs": [],
   "source": [
    "from sklearn.model_selection import train_test_split\n",
    "x = m1.iloc[:, :-1]\n",
    "y = m1.iloc[:, -1]\n",
    "X_train, X_test, y_train, y_test = train_test_split(x, y, test_size=0.3, random_state=1, stratify=y)"
   ]
  },
  {
   "cell_type": "code",
   "execution_count": 3,
   "id": "2ca9ef6f",
   "metadata": {},
   "outputs": [],
   "source": [
    "class_probabilities = {}\n",
    "total_samples = len(y_train)\n",
    "\n",
    "for class_name in np.unique(y_train):\n",
    "    class_count = len(y_train[y_train == class_name])\n",
    "    class_probabilities[class_name] = class_count / total_samples"
   ]
  },
  {
   "cell_type": "code",
   "execution_count": 4,
   "id": "b6ace79f",
   "metadata": {},
   "outputs": [],
   "source": [
    "feature_probabilities = {}\n",
    "\n",
    "for class_name in np.unique(y_train):\n",
    "    # Select rows belonging to the current class\n",
    "    rows = X_train[y_train == class_name]\n",
    "    # Calculate mean and standard deviation for each feature\n",
    "    means = rows.mean(axis=0)\n",
    "    stds = rows.std(axis=0)\n",
    "    # Store the mean and standard deviation in a dictionary\n",
    "    feature_probabilities[class_name] = (means, stds)"
   ]
  },
  {
   "cell_type": "code",
   "execution_count": 5,
   "id": "7d04285c",
   "metadata": {},
   "outputs": [],
   "source": [
    "def predict(X, class_probabilities, feature_probabilities):\n",
    "    # Calculate the posterior probability for each class\n",
    "    posteriors = {}\n",
    "    for class_name in class_probabilities:\n",
    "        class_prior = class_probabilities[class_name]\n",
    "        means, stds = feature_probabilities[class_name]\n",
    "        likelihood = np.exp(-(X - means) ** 2 / (2 * stds ** 2)) / (np.sqrt(2 * np.pi) * stds)\n",
    "        posterior = np.log(class_prior) + np.log(likelihood.prod(axis=0))\n",
    "        posteriors[class_name] = posterior\n",
    "    # Return the class with the highest posterior probability\n",
    "    return max(posteriors, key=posteriors.get)"
   ]
  },
  {
   "cell_type": "code",
   "execution_count": 6,
   "id": "cc908760",
   "metadata": {},
   "outputs": [],
   "source": [
    "predictions = []\n",
    "for i in range(len(X_test)):\n",
    "    prediction = predict(X_test.iloc[i], class_probabilities, feature_probabilities)\n",
    "    predictions.append(prediction)"
   ]
  },
  {
   "cell_type": "code",
   "execution_count": 7,
   "id": "92a2ead4",
   "metadata": {},
   "outputs": [
    {
     "name": "stdout",
     "output_type": "stream",
     "text": [
      "Accuracy: 0.4869002060641743\n",
      "Precision: 0.3559263482744905\n",
      "Recall: 0.6398509702228634\n",
      "F1 score: 0.32652230957492673\n"
     ]
    }
   ],
   "source": [
    "from sklearn.metrics import accuracy_score, precision_score, recall_score, f1_score\n",
    "\n",
    "print(\"Accuracy:\", accuracy_score(y_test, predictions))\n",
    "print(\"Precision:\", precision_score(y_test, predictions, average='macro'))\n",
    "print(\"Recall:\", recall_score(y_test, predictions, average='macro'))\n",
    "print(\"F1 score:\", f1_score(y_test, predictions, average='macro'))"
   ]
  },
  {
   "cell_type": "code",
   "execution_count": null,
   "id": "f07fa7f4",
   "metadata": {},
   "outputs": [],
   "source": []
  }
 ],
 "metadata": {
  "kernelspec": {
   "display_name": "Python 3 (ipykernel)",
   "language": "python",
   "name": "python3"
  },
  "language_info": {
   "codemirror_mode": {
    "name": "ipython",
    "version": 3
   },
   "file_extension": ".py",
   "mimetype": "text/x-python",
   "name": "python",
   "nbconvert_exporter": "python",
   "pygments_lexer": "ipython3",
   "version": "3.9.13"
  }
 },
 "nbformat": 4,
 "nbformat_minor": 5
}
